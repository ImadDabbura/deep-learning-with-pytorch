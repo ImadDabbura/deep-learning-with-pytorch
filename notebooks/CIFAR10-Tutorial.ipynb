{
 "cells": [
  {
   "cell_type": "code",
   "execution_count": 1,
   "metadata": {},
   "outputs": [],
   "source": [
    "import sys\n",
    "import pickle\n",
    "\n",
    "import matplotlib.pyplot as plt\n",
    "import numpy as np\n",
    "import torch\n",
    "from torch import nn\n",
    "import torch.nn.functional as F\n",
    "import torchvision\n",
    "from torchvision import transforms\n",
    "\n",
    "sys.path.append('../')\n",
    "import utils\n",
    "\n",
    "%matplotlib inline\n",
    "plt.style.use('gadfly')"
   ]
  },
  {
   "cell_type": "code",
   "execution_count": 2,
   "metadata": {},
   "outputs": [
    {
     "name": "stdout",
     "output_type": "stream",
     "text": [
      "batches.meta  data_batch_2  data_batch_4  readme.html\r\n",
      "data_batch_1  data_batch_3  data_batch_5  test_batch\r\n"
     ]
    }
   ],
   "source": [
    "ls ../data/cifar-10-batches-py/"
   ]
  },
  {
   "cell_type": "code",
   "execution_count": 3,
   "metadata": {},
   "outputs": [],
   "source": [
    "EPOCHS = 2\n",
    "BATCH_SIZE = 4\n",
    "LEARNING_RATE = 1e-3"
   ]
  },
  {
   "cell_type": "code",
   "execution_count": 4,
   "metadata": {},
   "outputs": [],
   "source": [
    "# Define transformer\n",
    "transform = transforms.Compose([\n",
    "    transforms.ToTensor(),\n",
    "    transforms.Normalize([0.5, 0.5, 0.5], [0.5, 0.5, 0.5])\n",
    "])"
   ]
  },
  {
   "cell_type": "code",
   "execution_count": 5,
   "metadata": {},
   "outputs": [
    {
     "name": "stderr",
     "output_type": "stream",
     "text": [
      "\r",
      "0.00B [00:00, ?B/s]"
     ]
    },
    {
     "name": "stdout",
     "output_type": "stream",
     "text": [
      "Downloading https://www.cs.toronto.edu/~kriz/cifar-10-python.tar.gz to data/cifar-10-python.tar.gz\n"
     ]
    },
    {
     "name": "stderr",
     "output_type": "stream",
     "text": [
      "171MB [02:23, 1.80MB/s]                            "
     ]
    },
    {
     "name": "stdout",
     "output_type": "stream",
     "text": [
      "Files already downloaded and verified\n"
     ]
    }
   ],
   "source": [
    "# Define datasets and dataloaders\n",
    "train_dataset = torchvision.datasets.CIFAR10(root='data/',\n",
    "                                             train=True,\n",
    "                                             download=True,\n",
    "                                             transform=transform)\n",
    "train_loader = torch.utils.data.DataLoader(train_dataset,\n",
    "                                           batch_size=BATCH_SIZE,\n",
    "                                           shuffle=True,\n",
    "                                           num_workers=4)\n",
    "\n",
    "test_dataset = torchvision.datasets.CIFAR10(root='data/',\n",
    "                                             train=False,\n",
    "                                             download=True,\n",
    "                                             transform=transform)\n",
    "test_loader = torch.utils.data.DataLoader(test_dataset,\n",
    "                                           batch_size=BATCH_SIZE,\n",
    "                                           shuffle=False,\n",
    "                                           num_workers=4)"
   ]
  },
  {
   "cell_type": "code",
   "execution_count": 6,
   "metadata": {},
   "outputs": [
    {
     "data": {
      "text/plain": [
       "['airplane',\n",
       " 'automobile',\n",
       " 'bird',\n",
       " 'cat',\n",
       " 'deer',\n",
       " 'dog',\n",
       " 'frog',\n",
       " 'horse',\n",
       " 'ship',\n",
       " 'truck']"
      ]
     },
     "execution_count": 6,
     "metadata": {},
     "output_type": "execute_result"
    },
    {
     "name": "stderr",
     "output_type": "stream",
     "text": [
      "\r",
      "171MB [02:40, 1.80MB/s]"
     ]
    }
   ],
   "source": [
    "with open('data/cifar-10-batches-py/batches.meta', 'rb') as f:\n",
    "    batches = pickle.load(f)\n",
    "classes = batches['label_names']\n",
    "N_CLASSES = len(classes)\n",
    "classes"
   ]
  },
  {
   "cell_type": "code",
   "execution_count": 7,
   "metadata": {},
   "outputs": [
    {
     "name": "stdout",
     "output_type": "stream",
     "text": [
      "['automobile', 'dog', 'airplane', 'frog']\n"
     ]
    },
    {
     "data": {
      "image/png": "[encoded data removed]",
      "text/plain": [
       "<Figure size 864x864 with 1 Axes>"
      ]
     },
     "metadata": {
      "needs_background": "light"
     },
     "output_type": "display_data"
    }
   ],
   "source": [
    "# Plot sample images\n",
    "data_iter = iter(train_loader)\n",
    "images, labels = next(data_iter)\n",
    "utils.show_images(torchvision.utils.make_grid(images), 0.5, 0.5)\n",
    "print([classes[labels[label]] for label in range(len(labels))])"
   ]
  },
  {
   "cell_type": "code",
   "execution_count": 8,
   "metadata": {
    "code_folding": []
   },
   "outputs": [],
   "source": [
    "# Build CNN\n",
    "class Net(nn.Module):\n",
    "    \n",
    "    def __init__(self):\n",
    "        super().__init__()\n",
    "        self.conv1 = nn.Conv2d(3, 6, 5)\n",
    "        self.pool = nn.MaxPool2d(2, 2)\n",
    "        self.conv2 = nn.Conv2d(6, 16, 5)\n",
    "        self.fc1 = nn.Linear(5 * 16 * 5, 120)\n",
    "        self.fc2 = nn.Linear(120, 84)\n",
    "        self.fc3 = nn.Linear(84, N_CLASSES)\n",
    "    \n",
    "    def forward(self, x):\n",
    "        x = F.relu(self.conv1(x))\n",
    "        x = self.pool(x)\n",
    "        x = F.relu(self.conv2(x))\n",
    "        x = self.pool(x)\n",
    "        x = x.view(-1, 5 * 16 * 5)\n",
    "        x = F.relu(self.fc1(x))\n",
    "        x = F.relu(self.fc2(x))\n",
    "        x = self.fc3(x)\n",
    "        return x"
   ]
  },
  {
   "cell_type": "code",
   "execution_count": 9,
   "metadata": {},
   "outputs": [
    {
     "name": "stdout",
     "output_type": "stream",
     "text": [
      "[1,  2000] Loss : 2.2083\n",
      "[1,  4000] Loss : 1.8897\n",
      "[1,  6000] Loss : 1.7285\n",
      "[1,  8000] Loss : 1.6062\n",
      "[1, 10000] Loss : 1.5546\n",
      "[1, 12000] Loss : 1.5292\n",
      "[2,  2000] Loss : 1.4635\n",
      "[2,  4000] Loss : 1.4337\n",
      "[2,  6000] Loss : 1.4195\n",
      "[2,  8000] Loss : 1.3883\n",
      "[2, 10000] Loss : 1.3497\n",
      "[2, 12000] Loss : 1.3359\n"
     ]
    }
   ],
   "source": [
    "device = torch.device('cuda:0' if torch.cuda.is_available() else 'cpu')\n",
    "net = Net().to(device)\n",
    "\n",
    "# Define loss and optimizer\n",
    "criterion = nn.CrossEntropyLoss()\n",
    "optimizer = torch.optim.SGD(net.parameters(), lr=LEARNING_RATE, momentum=0.9)\n",
    "\n",
    "# Train CNN\n",
    "for epoch in range(EPOCHS):\n",
    "    running_loss = 0\n",
    "    for i, data in enumerate(train_loader):\n",
    "        # Get data\n",
    "        images, labels = data\n",
    "        images.to(device)\n",
    "        labels.to(device)\n",
    "        \n",
    "        # Fwd pass\n",
    "        pred_labels = net(images)\n",
    "        \n",
    "        # Compute loss\n",
    "        loss = criterion(pred_labels, labels)\n",
    "\n",
    "        # Zero grads\n",
    "        optimizer.zero_grad()\n",
    "        \n",
    "        # backward pass\n",
    "        loss.backward()\n",
    "        \n",
    "        # Update parameters\n",
    "        optimizer.step()\n",
    "        \n",
    "        # Print loss\n",
    "        running_loss += loss\n",
    "        if (i + 1) % 2000 == 0:\n",
    "            print(f'[{epoch + 1}, {i + 1:>5}] Loss : {running_loss / 2000:.4f}')\n",
    "            running_loss = 0"
   ]
  },
  {
   "cell_type": "code",
   "execution_count": 10,
   "metadata": {},
   "outputs": [
    {
     "name": "stdout",
     "output_type": "stream",
     "text": [
      "Accuracy of airplane   : 64.90%\n",
      "Accuracy of automobile : 80.32%\n",
      "Accuracy of bird       : 36.73%\n",
      "Accuracy of cat        : 23.73%\n",
      "Accuracy of deer       : 27.39%\n",
      "Accuracy of dog        : 61.19%\n",
      "Accuracy of frog       : 68.99%\n",
      "Accuracy of horse      : 47.27%\n",
      "Accuracy of ship       : 60.42%\n",
      "Accuracy of truck      : 58.37%\n"
     ]
    }
   ],
   "source": [
    "# Evaluating the model\n",
    "class_correct = list(range(10))\n",
    "class_total = list(range(10))\n",
    "with torch.no_grad():\n",
    "    for i, data in enumerate(test_loader):\n",
    "        images, labels = data\n",
    "        images.to(device)\n",
    "        labels.to(device)\n",
    "        output = net(images)\n",
    "        pred_labels = torch.max(output, 1)[1]\n",
    "        correct_classes = pred_labels == labels\n",
    "        for i in range(BATCH_SIZE):\n",
    "            label = labels[i]\n",
    "            class_total[label] += 1\n",
    "            class_correct[label] += correct_classes[i].item()\n",
    "for i, class_ in enumerate(classes):\n",
    "    acc = class_correct[i] / class_total[i]\n",
    "    print(f'Accuracy of {class_:<10} : {acc:.2%}')"
   ]
  }
 ],
 "metadata": {
  "kernelspec": {
   "display_name": "Python 3",
   "language": "python",
   "name": "python3"
  },
  "toc": {
   "nav_menu": {},
   "number_sections": true,
   "sideBar": true,
   "skip_h1_title": false,
   "title_cell": "Table of Contents",
   "title_sidebar": "Contents",
   "toc_cell": false,
   "toc_position": {},
   "toc_section_display": true,
   "toc_window_display": false
  }
 },
 "nbformat": 4,
 "nbformat_minor": 2
}
