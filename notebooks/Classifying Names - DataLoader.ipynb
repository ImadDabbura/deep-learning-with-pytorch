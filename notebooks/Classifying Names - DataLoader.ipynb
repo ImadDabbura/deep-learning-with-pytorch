{
 "cells": [
  {
   "cell_type": "markdown",
   "metadata": {
    "heading_collapsed": true
   },
   "source": [
    "# Imports"
   ]
  },
  {
   "cell_type": "code",
   "execution_count": 65,
   "metadata": {
    "hidden": true
   },
   "outputs": [],
   "source": [
    "import os\n",
    "import string\n",
    "import time\n",
    "import unicodedata\n",
    "\n",
    "import matplotlib.pyplot as plt\n",
    "import numpy as np\n",
    "import pandas as pd\n",
    "from pathlib import Path\n",
    "import torch\n",
    "from torch.utils.data import TensorDataset, SubsetRandomSampler, DataLoader\n",
    "from torch import nn\n",
    "import torch.nn.functional as F\n",
    "from torch import optim\n",
    "import seaborn as sns\n",
    "from warnings import filterwarnings\n",
    "\n",
    "%matplotlib inline\n",
    "%config InlineBackend.figure_format = 'retina'\n",
    "filterwarnings('ignore')\n",
    "sns.set()"
   ]
  },
  {
   "cell_type": "code",
   "execution_count": 67,
   "metadata": {
    "hidden": true
   },
   "outputs": [],
   "source": [
    "%reload_ext autoreload\n",
    "%autoreload 2"
   ]
  },
  {
   "cell_type": "code",
   "execution_count": 68,
   "metadata": {
    "hidden": true
   },
   "outputs": [
    {
     "data": {
      "text/plain": [
       "'1.0.0'"
      ]
     },
     "execution_count": 68,
     "metadata": {},
     "output_type": "execute_result"
    }
   ],
   "source": [
    "torch.__version__"
   ]
  },
  {
   "cell_type": "markdown",
   "metadata": {
    "heading_collapsed": true
   },
   "source": [
    "# Introduction "
   ]
  },
  {
   "cell_type": "markdown",
   "metadata": {
    "hidden": true
   },
   "source": [
    "In this notebook, we will be training a RNN using dataset of names from 18 different languages. When training is done, our RNN should be able to classify the name into one of the 18 different languages. Below are the languages:"
   ]
  },
  {
   "cell_type": "code",
   "execution_count": 69,
   "metadata": {
    "hidden": true,
    "scrolled": true
   },
   "outputs": [
    {
     "data": {
      "text/plain": [
       "['Arabic',\n",
       " 'Chinese',\n",
       " 'Czech',\n",
       " 'Dutch',\n",
       " 'English',\n",
       " 'French',\n",
       " 'German',\n",
       " 'Greek',\n",
       " 'Irish',\n",
       " 'Italian',\n",
       " 'Japanese',\n",
       " 'Korean',\n",
       " 'Polish',\n",
       " 'Portuguese',\n",
       " 'Russian',\n",
       " 'Scottish',\n",
       " 'Spanish',\n",
       " 'Vietnamese']"
      ]
     },
     "execution_count": 69,
     "metadata": {},
     "output_type": "execute_result"
    }
   ],
   "source": [
    "PATH = Path('../data/names/')\n",
    "languages = sorted([fname.stem for fname in PATH.glob('*.txt')])\n",
    "languages"
   ]
  },
  {
   "cell_type": "markdown",
   "metadata": {
    "heading_collapsed": true
   },
   "source": [
    "# Load Data"
   ]
  },
  {
   "cell_type": "code",
   "execution_count": 71,
   "metadata": {
    "hidden": true
   },
   "outputs": [
    {
     "name": "stdout",
     "output_type": "stream",
     "text": [
      "\u001b[31mArabic.txt\u001b[m\u001b[m     \u001b[31mEnglish.txt\u001b[m\u001b[m    \u001b[31mIrish.txt\u001b[m\u001b[m      \u001b[31mPolish.txt\u001b[m\u001b[m     \u001b[31mSpanish.txt\u001b[m\u001b[m\r\n",
      "\u001b[31mChinese.txt\u001b[m\u001b[m    \u001b[31mFrench.txt\u001b[m\u001b[m     \u001b[31mItalian.txt\u001b[m\u001b[m    \u001b[31mPortuguese.txt\u001b[m\u001b[m \u001b[31mVietnamese.txt\u001b[m\u001b[m\r\n",
      "\u001b[31mCzech.txt\u001b[m\u001b[m      \u001b[31mGerman.txt\u001b[m\u001b[m     \u001b[31mJapanese.txt\u001b[m\u001b[m   \u001b[31mRussian.txt\u001b[m\u001b[m\r\n",
      "\u001b[31mDutch.txt\u001b[m\u001b[m      \u001b[31mGreek.txt\u001b[m\u001b[m      \u001b[31mKorean.txt\u001b[m\u001b[m     \u001b[31mScottish.txt\u001b[m\u001b[m\r\n"
     ]
    }
   ],
   "source": [
    "!ls {PATH}"
   ]
  },
  {
   "cell_type": "code",
   "execution_count": 72,
   "metadata": {
    "hidden": true
   },
   "outputs": [
    {
     "name": "stdout",
     "output_type": "stream",
     "text": [
      "   20074 total\n",
      "    9408 Russian.txt\n",
      "    3668 English.txt\n",
      "    2000 Arabic.txt\n",
      "     991 Japanese.txt\n",
      "     724 German.txt\n",
      "     709 Italian.txt\n",
      "     519 Czech.txt\n",
      "     298 Spanish.txt\n",
      "     297 Dutch.txt\n",
      "     277 French.txt\n",
      "     268 Chinese.txt\n",
      "     232 Irish.txt\n",
      "     203 Greek.txt\n",
      "     139 Polish.txt\n",
      "     100 Scottish.txt\n",
      "      94 Korean.txt\n",
      "      74 Portuguese.txt\n",
      "      73 Vietnamese.txt\n"
     ]
    }
   ],
   "source": [
    "%%bash\n",
    "cd ../data/names/\n",
    "wc -l *.txt| sort -r"
   ]
  },
  {
   "cell_type": "markdown",
   "metadata": {
    "hidden": true
   },
   "source": [
    "Overall, we have 20,074 names Where Russian names are the majority with 9,408 and Portuguese and Vietnamese have the least names."
   ]
  },
  {
   "cell_type": "code",
   "execution_count": 73,
   "metadata": {
    "hidden": true
   },
   "outputs": [
    {
     "name": "stdout",
     "output_type": "stream",
     "text": [
      "Khoury\r\n",
      "Nahas\r\n",
      "Daher\r\n",
      "Gerges\r\n",
      "Nazari\r\n"
     ]
    }
   ],
   "source": [
    "# View first 5 names from the Arabic language\n",
    "!head -5 {PATH  / 'Arabic.txt'}"
   ]
  },
  {
   "cell_type": "code",
   "execution_count": 74,
   "metadata": {
    "hidden": true
   },
   "outputs": [],
   "source": [
    "def unicode_to_ascii(s, vocab):\n",
    "    '''Convert a unicode string to ascii.'''\n",
    "    res = []\n",
    "\n",
    "    for c in unicodedata.normalize('NFD', s):\n",
    "        if unicodedata.category(c) != 'Mn' and c in vocab:\n",
    "            res.append(c)\n",
    "    \n",
    "    return ''.join(res)"
   ]
  },
  {
   "cell_type": "code",
   "execution_count": 75,
   "metadata": {
    "hidden": true
   },
   "outputs": [],
   "source": [
    "vocab = string.ascii_lowercase\n",
    "# Read the data\n",
    "raw_names = []\n",
    "raw_languages = []\n",
    "for fname in PATH.glob('*.txt'):\n",
    "    with open(fname, 'r', encoding='utf-8') as f:\n",
    "        tmp = f.read().strip().lower().split('\\n')\n",
    "        tmp = [unicode_to_ascii(name, vocab) for name in tmp]\n",
    "        raw_names.append(tmp)\n",
    "        raw_languages.append([fname.stem] * len(tmp))"
   ]
  },
  {
   "cell_type": "code",
   "execution_count": 76,
   "metadata": {
    "hidden": true
   },
   "outputs": [
    {
     "data": {
      "text/plain": [
       "(['abl', 'adsit', 'ajdrna', 'alt', 'antonowitsch'],\n",
       " ['Czech', 'Czech', 'Czech', 'Czech', 'Czech'])"
      ]
     },
     "execution_count": 76,
     "metadata": {},
     "output_type": "execute_result"
    }
   ],
   "source": [
    "raw_names[0][:5], raw_languages[0][:5]"
   ]
  },
  {
   "cell_type": "markdown",
   "metadata": {
    "heading_collapsed": true
   },
   "source": [
    "# Data Exploration"
   ]
  },
  {
   "cell_type": "code",
   "execution_count": 77,
   "metadata": {
    "hidden": true
   },
   "outputs": [
    {
     "data": {
      "text/plain": [
       "Russian       9408\n",
       "English       3668\n",
       "Arabic        2000\n",
       "Japanese       991\n",
       "German         724\n",
       "Italian        709\n",
       "Czech          519\n",
       "Spanish        298\n",
       "Dutch          297\n",
       "French         277\n",
       "Chinese        268\n",
       "Irish          232\n",
       "Greek          203\n",
       "Polish         139\n",
       "Scottish       100\n",
       "Korean          94\n",
       "Portuguese      74\n",
       "Vietnamese      73\n",
       "dtype: int64"
      ]
     },
     "execution_count": 77,
     "metadata": {},
     "output_type": "execute_result"
    }
   ],
   "source": [
    "# Flatten languages (labels) and check if it equals the previous numbers\n",
    "languages = [lang for language in raw_languages for lang in language]\n",
    "pd.Series(languages).value_counts()"
   ]
  },
  {
   "cell_type": "code",
   "execution_count": 78,
   "metadata": {
    "hidden": true
   },
   "outputs": [
    {
     "data": {
      "image/png": "[encoded data removed]",
      "text/plain": [
       "<Figure size 432x288 with 1 Axes>"
      ]
     },
     "metadata": {
      "image/png": {
       "height": 254,
       "width": 386
      }
     },
     "output_type": "display_data"
    }
   ],
   "source": [
    "# Distribution of length of all names\n",
    "names_lengths = [len(name) for language in raw_names for name in language]\n",
    "plt.hist(names_lengths, bins=np.arange(2, 21, 2));"
   ]
  },
  {
   "cell_type": "code",
   "execution_count": 79,
   "metadata": {
    "hidden": true
   },
   "outputs": [
    {
     "data": {
      "text/plain": [
       "19"
      ]
     },
     "execution_count": 79,
     "metadata": {},
     "output_type": "execute_result"
    }
   ],
   "source": [
    "max(names_lengths)"
   ]
  },
  {
   "cell_type": "code",
   "execution_count": 80,
   "metadata": {
    "hidden": true
   },
   "outputs": [
    {
     "data": {
      "image/png": "[encoded data removed]",
      "text/plain": [
       "<Figure size 1152x864 with 18 Axes>"
      ]
     },
     "metadata": {
      "image/png": {
       "height": 689,
       "width": 944
      }
     },
     "output_type": "display_data"
    }
   ],
   "source": [
    "# Distribution of of length of names by language\n",
    "def get_cmap(n, name='hsv'):\n",
    "    return plt.cm.get_cmap(name, n)\n",
    "\n",
    "cmap = get_cmap(len(raw_languages))\n",
    "fig = plt.figure(figsize=(16, 12))\n",
    "for i, language in enumerate(raw_languages):\n",
    "    tmp = [len(name) for name in raw_names[i]]\n",
    "    fig.add_subplot(3, 6, i + 1)\n",
    "    plt.hist(tmp, bins=range(2, 21, 2), color=cmap(i), label=language)\n",
    "    plt.legend()"
   ]
  },
  {
   "cell_type": "markdown",
   "metadata": {
    "heading_collapsed": true
   },
   "source": [
    "# Preprocessing "
   ]
  },
  {
   "cell_type": "markdown",
   "metadata": {
    "hidden": true
   },
   "source": [
    "We won't do any preprocessing here other than converting all names to lower case."
   ]
  },
  {
   "cell_type": "code",
   "execution_count": 202,
   "metadata": {
    "hidden": true
   },
   "outputs": [
    {
     "data": {
      "text/plain": [
       "['a', 'b', 'c', 'd', 'e', 'f', 'g', 'h', 'i', 'j']"
      ]
     },
     "execution_count": 202,
     "metadata": {},
     "output_type": "execute_result"
    }
   ],
   "source": [
    "# Create a vocab\n",
    "names = [name for names in raw_names for name in names]\n",
    "vocab = sorted(list(set(''.join(names))))\n",
    "char_to_idx = {char:(ord(char) - 96) for char in vocab}\n",
    "idx_to_char = {idx:char for char, idx in char_to_idx.items()}\n",
    "vocab[:10]"
   ]
  },
  {
   "cell_type": "code",
   "execution_count": 203,
   "metadata": {
    "hidden": true
   },
   "outputs": [
    {
     "data": {
      "text/plain": [
       "{'Arabic': 0,\n",
       " 'Chinese': 1,\n",
       " 'Czech': 2,\n",
       " 'Dutch': 3,\n",
       " 'English': 4,\n",
       " 'French': 5,\n",
       " 'German': 6,\n",
       " 'Greek': 7,\n",
       " 'Irish': 8,\n",
       " 'Italian': 9,\n",
       " 'Japanese': 10,\n",
       " 'Korean': 11,\n",
       " 'Polish': 12,\n",
       " 'Portuguese': 13,\n",
       " 'Russian': 14,\n",
       " 'Scottish': 15,\n",
       " 'Spanish': 16,\n",
       " 'Vietnamese': 17}"
      ]
     },
     "execution_count": 203,
     "metadata": {},
     "output_type": "execute_result"
    }
   ],
   "source": [
    "# Create dictionary for lang2labels and labels2lang\n",
    "lang_to_labels = {language:label for label, language in enumerate(sorted(list(set(languages))))}\n",
    "labels_to_lang = {label:language for language, label in lang_to_labels.items()}\n",
    "lang_to_labels"
   ]
  },
  {
   "cell_type": "code",
   "execution_count": 204,
   "metadata": {
    "hidden": true
   },
   "outputs": [
    {
     "data": {
      "text/plain": [
       "[[1, 2, 12],\n",
       " [1, 4, 19, 9, 20],\n",
       " [1, 10, 4, 18, 14, 1],\n",
       " [1, 12, 20],\n",
       " [1, 14, 20, 15, 14, 15, 23, 9, 20, 19, 3, 8]]"
      ]
     },
     "execution_count": 204,
     "metadata": {},
     "output_type": "execute_result"
    }
   ],
   "source": [
    "# Encode names\n",
    "encoded_names = [[char_to_idx[char] for char in name] for names in raw_names\n",
    "                  for name in names]\n",
    "encoded_names[:5]"
   ]
  },
  {
   "cell_type": "code",
   "execution_count": 205,
   "metadata": {
    "hidden": true
   },
   "outputs": [
    {
     "data": {
      "text/plain": [
       "array([2, 2, 2, 2, 2])"
      ]
     },
     "execution_count": 205,
     "metadata": {},
     "output_type": "execute_result"
    }
   ],
   "source": [
    "# Labels\n",
    "labels = np.array([lang_to_labels[language] for language in languages])\n",
    "labels[:5]"
   ]
  },
  {
   "cell_type": "markdown",
   "metadata": {
    "heading_collapsed": true,
    "hidden": true
   },
   "source": [
    "## Right Padding"
   ]
  },
  {
   "cell_type": "code",
   "execution_count": 206,
   "metadata": {
    "hidden": true
   },
   "outputs": [
    {
     "data": {
      "text/plain": [
       "19"
      ]
     },
     "execution_count": 206,
     "metadata": {},
     "output_type": "execute_result"
    }
   ],
   "source": [
    "max(names_lengths)"
   ]
  },
  {
   "cell_type": "code",
   "execution_count": 207,
   "metadata": {
    "hidden": true
   },
   "outputs": [
    {
     "data": {
      "text/plain": [
       "0.9995018431802332"
      ]
     },
     "execution_count": 207,
     "metadata": {},
     "output_type": "execute_result"
    }
   ],
   "source": [
    "len([name_length for name_length in names_lengths if name_length <=15]) / len(names_lengths)"
   ]
  },
  {
   "cell_type": "markdown",
   "metadata": {
    "hidden": true
   },
   "source": [
    "We will do right-padding to be able to parallelize data and use mini-batches with data loader. Therefore, we need a `max_length` so that if a name is longer than `max_length` will be truncated or shorter than `max_length` will be padded by zeros. Based on the histograms in previous, sections we can either set the `max_length` to 15 since about 99% of the names have length <= 15 or just set it equal to the length of the longer name (20)."
   ]
  },
  {
   "cell_type": "code",
   "execution_count": 208,
   "metadata": {
    "hidden": true
   },
   "outputs": [],
   "source": [
    "max_length = max(names_lengths)"
   ]
  },
  {
   "cell_type": "code",
   "execution_count": 209,
   "metadata": {
    "hidden": true,
    "scrolled": true
   },
   "outputs": [
    {
     "data": {
      "text/plain": [
       "array([[ 1,  2, 12,  0,  0,  0,  0,  0,  0,  0,  0,  0,  0,  0,  0,  0,\n",
       "         0,  0,  0],\n",
       "       [ 1,  4, 19,  9, 20,  0,  0,  0,  0,  0,  0,  0,  0,  0,  0,  0,\n",
       "         0,  0,  0],\n",
       "       [ 1, 10,  4, 18, 14,  1,  0,  0,  0,  0,  0,  0,  0,  0,  0,  0,\n",
       "         0,  0,  0],\n",
       "       [ 1, 12, 20,  0,  0,  0,  0,  0,  0,  0,  0,  0,  0,  0,  0,  0,\n",
       "         0,  0,  0],\n",
       "       [ 1, 14, 20, 15, 14, 15, 23,  9, 20, 19,  3,  8,  0,  0,  0,  0,\n",
       "         0,  0,  0]])"
      ]
     },
     "execution_count": 209,
     "metadata": {},
     "output_type": "execute_result"
    }
   ],
   "source": [
    "padded_names = np.zeros((len(names), max_length), dtype=int)\n",
    "encoded_names_arr = np.array(encoded_names)\n",
    "for i, encoded_name in enumerate(encoded_names):\n",
    "    padded_names[i, :len(encoded_name)] = np.array(encoded_name)[:max_length]\n",
    "padded_names[:5]"
   ]
  },
  {
   "cell_type": "code",
   "execution_count": 210,
   "metadata": {
    "hidden": true
   },
   "outputs": [
    {
     "data": {
      "text/plain": [
       "(20074, 19)"
      ]
     },
     "execution_count": 210,
     "metadata": {},
     "output_type": "execute_result"
    }
   ],
   "source": [
    "padded_names.shape"
   ]
  },
  {
   "cell_type": "markdown",
   "metadata": {
    "heading_collapsed": true
   },
   "source": [
    "# Dataset/Dataloader"
   ]
  },
  {
   "cell_type": "markdown",
   "metadata": {
    "hidden": true
   },
   "source": [
    "Here we will create `Dataset` for both training and validation. This will allow us to use `Dataloader` to parallelize training with mini-batches. We will also use 20% of the data for validation."
   ]
  },
  {
   "cell_type": "code",
   "execution_count": 66,
   "metadata": {
    "hidden": true
   },
   "outputs": [],
   "source": [
    "batch_size = 64\n",
    "valid_pct = 0.2"
   ]
  },
  {
   "cell_type": "code",
   "execution_count": 67,
   "metadata": {
    "hidden": true
   },
   "outputs": [],
   "source": [
    "# Create Dataset\n",
    "train_ds = TensorDataset(torch.from_numpy(padded_names), torch.from_numpy(labels))\n",
    "\n",
    "# Split the data using RandomSampler\n",
    "indices = np.random.permutation(np.arange(len(train_ds)))\n",
    "split = int((valid_pct * len(train_ds)))\n",
    "valid_idxs, train_idxs = indices[:split], indices[split:]\n",
    "\n",
    "train_sampler = SubsetRandomSampler(train_idxs)\n",
    "valid_sampler = SubsetRandomSampler(valid_idxs)\n",
    "\n",
    "# Cretae Dataloader\n",
    "train_dl = DataLoader(train_ds, batch_size=batch_size, sampler=train_sampler)\n",
    "valid_dl = DataLoader(train_ds, batch_size=batch_size, sampler=valid_sampler)"
   ]
  },
  {
   "cell_type": "code",
   "execution_count": 68,
   "metadata": {
    "hidden": true
   },
   "outputs": [
    {
     "data": {
      "text/plain": [
       "(tensor([[ 4, 10, 21, 13,  1,  5, 22,  0,  0,  0,  0,  0,  0,  0,  0,  0,  0,  0,\n",
       "           0],\n",
       "         [ 7, 18, 21, 19,  8,  9, 11,  8,  9, 14,  0,  0,  0,  0,  0,  0,  0,  0,\n",
       "           0],\n",
       "         [ 8,  1, 23, 12,  1, 20,  1,  0,  0,  0,  0,  0,  0,  0,  0,  0,  0,  0,\n",
       "           0]]), tensor([14, 14,  2]))"
      ]
     },
     "execution_count": 68,
     "metadata": {},
     "output_type": "execute_result"
    }
   ],
   "source": [
    "sample_data = next(iter(train_dl))\n",
    "sample_data[0][:3], sample_data[1][:3]"
   ]
  },
  {
   "cell_type": "code",
   "execution_count": 69,
   "metadata": {
    "hidden": true
   },
   "outputs": [
    {
     "data": {
      "text/plain": [
       "14    7492\n",
       "4     2933\n",
       "0     1606\n",
       "10     810\n",
       "9      579\n",
       "6      572\n",
       "2      429\n",
       "16     235\n",
       "3      235\n",
       "1      220\n",
       "5      219\n",
       "8      178\n",
       "7      167\n",
       "12     111\n",
       "15      81\n",
       "11      75\n",
       "13      62\n",
       "17      56\n",
       "dtype: int64"
      ]
     },
     "execution_count": 69,
     "metadata": {},
     "output_type": "execute_result"
    }
   ],
   "source": [
    "pd.Series(labels[train_idxs]).value_counts()"
   ]
  },
  {
   "cell_type": "code",
   "execution_count": 70,
   "metadata": {
    "hidden": true
   },
   "outputs": [
    {
     "data": {
      "text/plain": [
       "14    1916\n",
       "4      735\n",
       "0      394\n",
       "10     181\n",
       "6      152\n",
       "9      130\n",
       "2       90\n",
       "16      63\n",
       "3       62\n",
       "5       58\n",
       "8       54\n",
       "1       48\n",
       "7       36\n",
       "12      28\n",
       "15      19\n",
       "11      19\n",
       "17      17\n",
       "13      12\n",
       "dtype: int64"
      ]
     },
     "execution_count": 70,
     "metadata": {},
     "output_type": "execute_result"
    }
   ],
   "source": [
    "pd.Series(labels[valid_idxs]).value_counts()"
   ]
  },
  {
   "cell_type": "markdown",
   "metadata": {
    "heading_collapsed": true
   },
   "source": [
    "# Model"
   ]
  },
  {
   "cell_type": "code",
   "execution_count": 157,
   "metadata": {
    "hidden": true
   },
   "outputs": [],
   "source": [
    "class RNN(nn.Module):\n",
    "    \n",
    "    def __init__(self, input_size, embedding_dim, hidden_size,\n",
    "                 output_size, n_layers, drop_out=0.5):\n",
    "        super().__init__()\n",
    "        self.input_size = input_size\n",
    "        self.embedding_dim = embedding_dim\n",
    "        self.hidden_size = hidden_size\n",
    "        self.output_size = output_size\n",
    "        self.n_layers = n_layers\n",
    "        self.drop_out = drop_out\n",
    "\n",
    "        self.embed = nn.Embedding(self.input_size, self.embedding_dim)\n",
    "        self.lstm = nn.LSTM(self.embedding_dim, self.hidden_size, self.n_layers,\n",
    "                       batch_first=True, dropout=drop_out)\n",
    "        self.drop = nn.Dropout(drop_out)\n",
    "        self.fc = nn.Linear(self.hidden_size, self.output_size)\n",
    "    \n",
    "    def forward(self, x, hidden):\n",
    "        batch_size = x.shape[0]\n",
    "        out = self.embed(x)\n",
    "        out, hidden = self.lstm(out, hidden)\n",
    "        out = self.drop(out)\n",
    "        out = out.contiguous().view(-1, self.hidden_size)\n",
    "        out = self.fc(out)\n",
    "        out = out.view(batch_size, self.output_size, -1)[:, :, -1]\n",
    "        \n",
    "        return out, hidden\n",
    "    \n",
    "    def init_hidden(self, batch_size):\n",
    "        weight = next(self.parameters()).data\n",
    "        hidden = (weight.new(self.n_layers, batch_size, self.hidden_size).zero_().to(device),\n",
    "                  weight.new(self.n_layers, batch_size, self.hidden_size).zero_().to(device))\n",
    "        \n",
    "        return hidden"
   ]
  },
  {
   "cell_type": "code",
   "execution_count": 158,
   "metadata": {
    "hidden": true
   },
   "outputs": [
    {
     "data": {
      "text/plain": [
       "'cpu'"
      ]
     },
     "execution_count": 158,
     "metadata": {},
     "output_type": "execute_result"
    }
   ],
   "source": [
    "device = ('cuda:0' if torch.cuda.is_available() else 'cpu')\n",
    "device"
   ]
  },
  {
   "cell_type": "code",
   "execution_count": 152,
   "metadata": {
    "hidden": true
   },
   "outputs": [
    {
     "data": {
      "text/plain": [
       "RNN(\n",
       "  (embed): Embedding(27, 300)\n",
       "  (lstm): LSTM(300, 100, num_layers=2, batch_first=True, dropout=0.5)\n",
       "  (drop): Dropout(p=0.5)\n",
       "  (fc): Linear(in_features=100, out_features=18, bias=True)\n",
       ")"
      ]
     },
     "execution_count": 152,
     "metadata": {},
     "output_type": "execute_result"
    }
   ],
   "source": [
    "vocab_size = len(vocab) + 1\n",
    "embedding_dim = 300\n",
    "hidden_size = 100\n",
    "output_size = len(lang_to_labels)\n",
    "n_layers = 2\n",
    "\n",
    "net = RNN(vocab_size, embedding_dim, hidden_size, output_size, n_layers)\n",
    "net"
   ]
  },
  {
   "cell_type": "code",
   "execution_count": 153,
   "metadata": {
    "hidden": true
   },
   "outputs": [
    {
     "data": {
      "text/plain": [
       "array([ 0,  1,  2,  3,  4,  5,  6,  7,  8,  9, 10, 11, 12, 13, 14, 15, 16,\n",
       "       17, 18, 19, 20, 21, 22, 23, 24, 25, 26])"
      ]
     },
     "execution_count": 153,
     "metadata": {},
     "output_type": "execute_result"
    }
   ],
   "source": [
    "a = padded_names.ravel()\n",
    "np.unique(a)"
   ]
  },
  {
   "cell_type": "code",
   "execution_count": 154,
   "metadata": {
    "hidden": true
   },
   "outputs": [
    {
     "data": {
      "text/plain": [
       "27"
      ]
     },
     "execution_count": 154,
     "metadata": {},
     "output_type": "execute_result"
    }
   ],
   "source": [
    "vocab_size"
   ]
  },
  {
   "cell_type": "markdown",
   "metadata": {
    "heading_collapsed": true
   },
   "source": [
    "# Training"
   ]
  },
  {
   "cell_type": "code",
   "execution_count": 155,
   "metadata": {
    "hidden": true
   },
   "outputs": [
    {
     "name": "stdout",
     "output_type": "stream",
     "text": [
      "Epoch 01/10\n",
      "-----------\n",
      "Step : 50\n",
      "Training Loss : 2.0158, Training Accuracy : 46.34%\n",
      "Validation Loss : 1.7938, Validation Accuracy : 47.71%\n",
      "\n",
      "Step : 100\n",
      "Training Loss : 1.9051, Training Accuracy : 46.84%\n",
      "Validation Loss : 1.6474, Validation Accuracy : 52.17%\n",
      "\n",
      "Step : 150\n",
      "Training Loss : 1.7822, Training Accuracy : 50.33%\n",
      "Validation Loss : 1.3197, Validation Accuracy : 64.13%\n",
      "\n",
      "Step : 200\n",
      "Training Loss : 1.6838, Training Accuracy : 52.95%\n",
      "Validation Loss : 1.3443, Validation Accuracy : 63.03%\n",
      "\n",
      "Step : 250\n",
      "Training Loss : 1.6173, Training Accuracy : 54.47%\n",
      "Validation Loss : 1.1999, Validation Accuracy : 65.84%\n",
      "\n",
      "Epoch 02/10\n",
      "-----------\n",
      "Step : 300\n",
      "Training Loss : 1.2512, Training Accuracy : 65.02%\n",
      "Validation Loss : 1.1405, Validation Accuracy : 68.46%\n",
      "\n",
      "Step : 350\n",
      "Training Loss : 1.2589, Training Accuracy : 64.55%\n",
      "Validation Loss : 1.1080, Validation Accuracy : 68.98%\n",
      "\n",
      "Step : 400\n",
      "Training Loss : 1.2123, Training Accuracy : 65.61%\n",
      "Validation Loss : 1.0838, Validation Accuracy : 68.98%\n",
      "\n",
      "Step : 450\n",
      "Training Loss : 1.2007, Training Accuracy : 66.03%\n",
      "Validation Loss : 1.0318, Validation Accuracy : 71.00%\n",
      "\n",
      "Step : 500\n",
      "Training Loss : 1.1831, Training Accuracy : 66.60%\n",
      "Validation Loss : 1.0187, Validation Accuracy : 72.42%\n",
      "\n",
      "Epoch 03/10\n",
      "-----------\n",
      "Step : 550\n",
      "Training Loss : 1.0637, Training Accuracy : 71.06%\n",
      "Validation Loss : 1.0002, Validation Accuracy : 72.17%\n",
      "\n",
      "Step : 600\n",
      "Training Loss : 1.0664, Training Accuracy : 70.58%\n",
      "Validation Loss : 0.9915, Validation Accuracy : 71.47%\n",
      "\n",
      "Step : 650\n",
      "Training Loss : 1.0740, Training Accuracy : 70.44%\n",
      "Validation Loss : 0.9662, Validation Accuracy : 72.94%\n",
      "\n",
      "Step : 700\n",
      "Training Loss : 1.0727, Training Accuracy : 70.49%\n",
      "Validation Loss : 0.9499, Validation Accuracy : 73.82%\n",
      "\n",
      "Step : 750\n",
      "Training Loss : 1.0530, Training Accuracy : 71.02%\n",
      "Validation Loss : 0.9398, Validation Accuracy : 73.99%\n",
      "\n",
      "Epoch 04/10\n",
      "-----------\n",
      "Step : 800\n",
      "Training Loss : 1.0015, Training Accuracy : 72.94%\n",
      "Validation Loss : 0.9134, Validation Accuracy : 74.46%\n",
      "\n",
      "Step : 850\n",
      "Training Loss : 0.9972, Training Accuracy : 72.86%\n",
      "Validation Loss : 0.9063, Validation Accuracy : 75.24%\n",
      "\n",
      "Step : 900\n",
      "Training Loss : 0.9854, Training Accuracy : 73.08%\n",
      "Validation Loss : 0.8931, Validation Accuracy : 75.71%\n",
      "\n",
      "Step : 950\n",
      "Training Loss : 0.9722, Training Accuracy : 73.52%\n",
      "Validation Loss : 0.8948, Validation Accuracy : 75.29%\n",
      "\n",
      "Step : 1000\n",
      "Training Loss : 0.9767, Training Accuracy : 73.32%\n",
      "Validation Loss : 0.8606, Validation Accuracy : 76.56%\n",
      "\n",
      "Epoch 05/10\n",
      "-----------\n",
      "Step : 1050\n",
      "Training Loss : 0.8855, Training Accuracy : 75.61%\n",
      "Validation Loss : 0.8709, Validation Accuracy : 75.88%\n",
      "\n",
      "Step : 1100\n",
      "Training Loss : 0.9218, Training Accuracy : 74.84%\n",
      "Validation Loss : 0.8738, Validation Accuracy : 75.26%\n",
      "\n",
      "Step : 1150\n",
      "Training Loss : 0.9193, Training Accuracy : 74.75%\n",
      "Validation Loss : 0.8444, Validation Accuracy : 76.28%\n",
      "\n",
      "Step : 1200\n",
      "Training Loss : 0.9163, Training Accuracy : 74.86%\n",
      "Validation Loss : 0.8432, Validation Accuracy : 76.71%\n",
      "\n",
      "Step : 1250\n",
      "Training Loss : 0.9137, Training Accuracy : 74.92%\n",
      "Validation Loss : 0.8326, Validation Accuracy : 77.03%\n",
      "\n",
      "Epoch 06/10\n",
      "-----------\n",
      "Step : 1300\n",
      "Training Loss : 0.8786, Training Accuracy : 75.31%\n",
      "Validation Loss : 0.8386, Validation Accuracy : 76.48%\n",
      "\n",
      "Step : 1350\n",
      "Training Loss : 0.8830, Training Accuracy : 75.28%\n",
      "Validation Loss : 0.8228, Validation Accuracy : 77.65%\n",
      "\n",
      "Step : 1400\n",
      "Training Loss : 0.8802, Training Accuracy : 75.52%\n",
      "Validation Loss : 0.8495, Validation Accuracy : 76.66%\n",
      "\n",
      "Step : 1450\n",
      "Training Loss : 0.8747, Training Accuracy : 75.82%\n",
      "Validation Loss : 0.8235, Validation Accuracy : 77.83%\n",
      "\n",
      "Step : 1500\n",
      "Training Loss : 0.8720, Training Accuracy : 75.94%\n",
      "Validation Loss : 0.8259, Validation Accuracy : 76.93%\n",
      "\n",
      "Epoch 07/10\n",
      "-----------\n",
      "Step : 1550\n",
      "Training Loss : 0.8185, Training Accuracy : 77.49%\n",
      "Validation Loss : 0.8136, Validation Accuracy : 77.23%\n",
      "\n",
      "Step : 1600\n",
      "Training Loss : 0.8508, Training Accuracy : 76.30%\n",
      "Validation Loss : 0.8020, Validation Accuracy : 78.13%\n",
      "\n",
      "Step : 1650\n",
      "Training Loss : 0.8529, Training Accuracy : 76.19%\n",
      "Validation Loss : 0.8065, Validation Accuracy : 77.88%\n",
      "\n",
      "Step : 1700\n",
      "Training Loss : 0.8408, Training Accuracy : 76.51%\n",
      "Validation Loss : 0.8056, Validation Accuracy : 77.80%\n",
      "\n",
      "Step : 1750\n",
      "Training Loss : 0.8366, Training Accuracy : 76.52%\n",
      "Validation Loss : 0.8035, Validation Accuracy : 78.28%\n",
      "\n",
      "Epoch 08/10\n",
      "-----------\n",
      "Step : 1800\n",
      "Training Loss : 0.8199, Training Accuracy : 77.11%\n",
      "Validation Loss : 0.7686, Validation Accuracy : 78.20%\n",
      "\n",
      "Step : 1850\n",
      "Training Loss : 0.8022, Training Accuracy : 77.42%\n",
      "Validation Loss : 0.7991, Validation Accuracy : 78.03%\n",
      "\n",
      "Step : 1900\n",
      "Training Loss : 0.8095, Training Accuracy : 77.26%\n",
      "Validation Loss : 0.7675, Validation Accuracy : 79.10%\n",
      "\n",
      "Step : 1950\n",
      "Training Loss : 0.8149, Training Accuracy : 77.07%\n",
      "Validation Loss : 0.7560, Validation Accuracy : 78.95%\n",
      "\n",
      "Step : 2000\n",
      "Training Loss : 0.8059, Training Accuracy : 77.48%\n",
      "Validation Loss : 0.7598, Validation Accuracy : 79.10%\n",
      "\n",
      "Epoch 09/10\n",
      "-----------\n",
      "Step : 2050\n",
      "Training Loss : 0.7843, Training Accuracy : 78.79%\n",
      "Validation Loss : 0.7682, Validation Accuracy : 78.87%\n",
      "\n",
      "Step : 2100\n",
      "Training Loss : 0.7806, Training Accuracy : 78.74%\n",
      "Validation Loss : 0.7546, Validation Accuracy : 78.97%\n",
      "\n",
      "Step : 2150\n",
      "Training Loss : 0.7634, Training Accuracy : 78.93%\n",
      "Validation Loss : 0.7433, Validation Accuracy : 79.37%\n",
      "\n",
      "Step : 2200\n",
      "Training Loss : 0.7777, Training Accuracy : 78.39%\n",
      "Validation Loss : 0.7595, Validation Accuracy : 79.35%\n",
      "\n",
      "Step : 2250\n",
      "Training Loss : 0.7728, Training Accuracy : 78.36%\n",
      "Validation Loss : 0.7751, Validation Accuracy : 78.50%\n",
      "\n",
      "Epoch 10/10\n",
      "-----------\n",
      "Step : 2300\n",
      "Training Loss : 0.7336, Training Accuracy : 79.04%\n",
      "Validation Loss : 0.7410, Validation Accuracy : 79.75%\n",
      "\n",
      "Step : 2350\n",
      "Training Loss : 0.7544, Training Accuracy : 78.61%\n",
      "Validation Loss : 0.7324, Validation Accuracy : 80.14%\n",
      "\n",
      "Step : 2400\n",
      "Training Loss : 0.7562, Training Accuracy : 78.28%\n",
      "Validation Loss : 0.7530, Validation Accuracy : 79.07%\n",
      "\n",
      "Step : 2450\n",
      "Training Loss : 0.7610, Training Accuracy : 78.27%\n",
      "Validation Loss : 0.7422, Validation Accuracy : 78.95%\n",
      "\n",
      "Step : 2500\n",
      "Training Loss : 0.7519, Training Accuracy : 78.48%\n",
      "Validation Loss : 0.7550, Validation Accuracy : 79.60%\n",
      "\n",
      "Training complete in : 3.0m and 37s\n"
     ]
    }
   ],
   "source": [
    "epochs = 10\n",
    "lr = 1e-3\n",
    "\n",
    "net.to(device)\n",
    "net.train()\n",
    "criterion = nn.CrossEntropyLoss(reduction='sum')\n",
    "optimizer = optim.Adam(net.parameters(), lr=lr)\n",
    "\n",
    "start = time.time()\n",
    "counter = 0\n",
    "for epoch in range(epochs):\n",
    "    print(f'Epoch {epoch + 1:02d}/{epochs:02d}\\n{\"-\" * 11}')\n",
    "    \n",
    "    hidden = net.init_hidden(batch_size)\n",
    "    \n",
    "    running_loss = 0\n",
    "    running_acc = 0\n",
    "    n_train = 0\n",
    "    \n",
    "    for inputs, labels_ in train_dl:\n",
    "        counter += 1\n",
    "        n_train += inputs.shape[0]\n",
    "        inputs = inputs.to(device)\n",
    "        labels = labels_.to(device)\n",
    "        \n",
    "        if inputs.shape[0] != batch_size:\n",
    "            hidden = tuple([each.data[:, :inputs.shape[0], :] for each in hidden])\n",
    "        else:\n",
    "            hidden = tuple([each.data for each in hidden])        \n",
    "        optimizer.zero_grad()\n",
    "        \n",
    "        output, hidden = net(inputs, hidden)\n",
    "        loss = criterion(output, labels_)\n",
    "        \n",
    "        running_loss += loss.item()\n",
    "        preds = torch.argmax(F.softmax(output, dim=1), dim=1)\n",
    "        correct = (preds == labels_).sum().item()\n",
    "        running_acc += correct\n",
    "        \n",
    "        loss.backward()\n",
    "        nn.utils.clip_grad_norm_(net.parameters(), 5)\n",
    "        optimizer.step()\n",
    "        \n",
    "        if counter % 50 ==0:\n",
    "            net.eval()\n",
    "            val_hidden = net.init_hidden(batch_size)\n",
    "            \n",
    "            val_loss = 0\n",
    "            val_acc = 0\n",
    "            \n",
    "            for inputs, labels_ in valid_dl:\n",
    "                inputs = inputs.to(device)\n",
    "                labels = labels_.to(device)\n",
    "\n",
    "                if inputs.shape[0] != batch_size:\n",
    "                    val_hidden = tuple([each.data[:, :inputs.shape[0], :] for each in val_hidden])\n",
    "                else:\n",
    "                    val_hidden = tuple([each.data for each in val_hidden])\n",
    "\n",
    "                output, val_hidden = net(inputs, val_hidden)\n",
    "                loss = criterion(output, labels_)\n",
    "                \n",
    "                val_loss += loss.item()\n",
    "                preds = torch.argmax(F.softmax(output, dim=1), dim=1)\n",
    "                correct = (preds == labels_).sum().item()\n",
    "                val_acc += correct\n",
    "        \n",
    "            print(f'Step : {counter}')\n",
    "            print(f'Training Loss : {running_loss / n_train:.4f}, '\n",
    "                  f'Training Accuracy : {running_acc / n_train:.2%}')\n",
    "            print(f'Validation Loss : {val_loss / len(valid_idxs):.4f}, '\n",
    "                  f'Validation Accuracy : {val_acc / len(valid_idxs):.2%}\\n')\n",
    "        \n",
    "        net.train()\n",
    "\n",
    "time_elapsed = time.time() - start\n",
    "print(f'Training complete in : {time_elapsed // 60}m and {time_elapsed % 60:.0f}s')"
   ]
  },
  {
   "cell_type": "markdown",
   "metadata": {},
   "source": [
    "# Training - Packed Sequences"
   ]
  },
  {
   "cell_type": "markdown",
   "metadata": {},
   "source": [
    "We want to create a `collate_fn` so that for "
   ]
  },
  {
   "cell_type": "code",
   "execution_count": 215,
   "metadata": {},
   "outputs": [],
   "source": [
    "def pack_padded_collate(batch):\n",
    "    '''Pack a padded sequence.'''\n",
    "    inputs, labels = zip(*[(a[None], b) for (a, b) in batch])\n",
    "    inputs = torch.cat(inputs)\n",
    "    labels = torch.stack(labels)\n",
    "    \n",
    "    sorted_lengths, sorted_idxs = (inputs > 0).sum(dim=1).sort(descending=True)\n",
    "    sorted_inputs = pack_padded_sequence(inputs[sorted_idxs], sorted_lengths, batch_first=True)\n",
    "    sorted_labels = labels[sorted_idxs]\n",
    "\n",
    "    return sorted_inputs, sorted_labels"
   ]
  }
 ],
 "metadata": {
  "kernelspec": {
   "display_name": "Python [conda env:fastai_dl]",
   "language": "python",
   "name": "conda-env-fastai_dl-py"
  },
  "language_info": {
   "codemirror_mode": {
    "name": "ipython",
    "version": 3
   },
   "file_extension": ".py",
   "mimetype": "text/x-python",
   "name": "python",
   "nbconvert_exporter": "python",
   "pygments_lexer": "ipython3",
   "version": "3.7.0"
  },
  "toc": {
   "base_numbering": 1,
   "nav_menu": {},
   "number_sections": true,
   "sideBar": true,
   "skip_h1_title": false,
   "title_cell": "Table of Contents",
   "title_sidebar": "Contents",
   "toc_cell": false,
   "toc_position": {},
   "toc_section_display": true,
   "toc_window_display": false
  }
 },
 "nbformat": 4,
 "nbformat_minor": 2
}
