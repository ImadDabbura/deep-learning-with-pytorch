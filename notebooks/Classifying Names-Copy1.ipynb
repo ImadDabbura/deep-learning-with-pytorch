{
 "cells": [
  {
   "cell_type": "markdown",
   "metadata": {
    "heading_collapsed": true
   },
   "source": [
    "# Imports"
   ]
  },
  {
   "cell_type": "code",
   "execution_count": 1,
   "metadata": {
    "hidden": true
   },
   "outputs": [],
   "source": [
    "import os\n",
    "import string\n",
    "import time\n",
    "import unicodedata\n",
    "\n",
    "import matplotlib.pyplot as plt\n",
    "import numpy as np\n",
    "from pathlib import Path\n",
    "import torch\n",
    "from torch import nn\n",
    "import torch.nn.functional as F\n",
    "from torch import optim\n",
    "from warnings import filterwarnings\n",
    "\n",
    "%matplotlib inline\n",
    "filterwarnings('ignore')"
   ]
  },
  {
   "cell_type": "code",
   "execution_count": 2,
   "metadata": {
    "hidden": true
   },
   "outputs": [],
   "source": [
    "%load_ext autoreload\n",
    "%autoreload 2"
   ]
  },
  {
   "cell_type": "code",
   "execution_count": 3,
   "metadata": {
    "hidden": true
   },
   "outputs": [
    {
     "data": {
      "text/plain": [
       "'0.4.1'"
      ]
     },
     "execution_count": 3,
     "metadata": {},
     "output_type": "execute_result"
    }
   ],
   "source": [
    "torch.__version__"
   ]
  },
  {
   "cell_type": "markdown",
   "metadata": {
    "heading_collapsed": true
   },
   "source": [
    "# Introduction "
   ]
  },
  {
   "cell_type": "markdown",
   "metadata": {
    "hidden": true
   },
   "source": [
    "In this notebook, we will be training a RNN using dataset of names from 18 different languages. When training is done, our RNN should be able to classify the name into one of the 18 different languages. Below are the languages:"
   ]
  },
  {
   "cell_type": "code",
   "execution_count": 3,
   "metadata": {
    "hidden": true
   },
   "outputs": [
    {
     "data": {
      "text/plain": [
       "['Arabic',\n",
       " 'Chinese',\n",
       " 'Czech',\n",
       " 'Dutch',\n",
       " 'English',\n",
       " 'French',\n",
       " 'German',\n",
       " 'Greek',\n",
       " 'Irish',\n",
       " 'Italian',\n",
       " 'Japanese',\n",
       " 'Korean',\n",
       " 'Polish',\n",
       " 'Portuguese',\n",
       " 'Russian',\n",
       " 'Scottish',\n",
       " 'Spanish',\n",
       " 'Vietnamese']"
      ]
     },
     "execution_count": 3,
     "metadata": {},
     "output_type": "execute_result"
    }
   ],
   "source": [
    "PATH = Path('../data/names/')\n",
    "languages = sorted([fname.stem for fname in PATH.glob('*.txt')])\n",
    "languages"
   ]
  },
  {
   "cell_type": "markdown",
   "metadata": {},
   "source": [
    "# Data Exploration"
   ]
  },
  {
   "cell_type": "code",
   "execution_count": 4,
   "metadata": {},
   "outputs": [
    {
     "name": "stdout",
     "output_type": "stream",
     "text": [
      "\u001b[31mArabic.txt\u001b[m\u001b[m     \u001b[31mEnglish.txt\u001b[m\u001b[m    \u001b[31mIrish.txt\u001b[m\u001b[m      \u001b[31mPolish.txt\u001b[m\u001b[m     \u001b[31mSpanish.txt\u001b[m\u001b[m\r\n",
      "\u001b[31mChinese.txt\u001b[m\u001b[m    \u001b[31mFrench.txt\u001b[m\u001b[m     \u001b[31mItalian.txt\u001b[m\u001b[m    \u001b[31mPortuguese.txt\u001b[m\u001b[m \u001b[31mVietnamese.txt\u001b[m\u001b[m\r\n",
      "\u001b[31mCzech.txt\u001b[m\u001b[m      \u001b[31mGerman.txt\u001b[m\u001b[m     \u001b[31mJapanese.txt\u001b[m\u001b[m   \u001b[31mRussian.txt\u001b[m\u001b[m\r\n",
      "\u001b[31mDutch.txt\u001b[m\u001b[m      \u001b[31mGreek.txt\u001b[m\u001b[m      \u001b[31mKorean.txt\u001b[m\u001b[m     \u001b[31mScottish.txt\u001b[m\u001b[m\r\n"
     ]
    }
   ],
   "source": [
    "!ls {PATH}"
   ]
  },
  {
   "cell_type": "code",
   "execution_count": 5,
   "metadata": {},
   "outputs": [
    {
     "name": "stdout",
     "output_type": "stream",
     "text": [
      "   20074 total\n",
      "    9408 Russian.txt\n",
      "    3668 English.txt\n",
      "    2000 Arabic.txt\n",
      "     991 Japanese.txt\n",
      "     724 German.txt\n",
      "     709 Italian.txt\n",
      "     519 Czech.txt\n",
      "     298 Spanish.txt\n",
      "     297 Dutch.txt\n",
      "     277 French.txt\n",
      "     268 Chinese.txt\n",
      "     232 Irish.txt\n",
      "     203 Greek.txt\n",
      "     139 Polish.txt\n",
      "     100 Scottish.txt\n",
      "      94 Korean.txt\n",
      "      74 Portuguese.txt\n",
      "      73 Vietnamese.txt\n"
     ]
    }
   ],
   "source": [
    "%%bash\n",
    "cd ../data/names/\n",
    "wc -l *.txt| sort -r"
   ]
  },
  {
   "cell_type": "code",
   "execution_count": 6,
   "metadata": {},
   "outputs": [
    {
     "name": "stdout",
     "output_type": "stream",
     "text": [
      "Khoury\r\n",
      "Nahas\r\n",
      "Daher\r\n",
      "Gerges\r\n",
      "Nazari\r\n"
     ]
    }
   ],
   "source": [
    "!head -5 {PATH  / 'Arabic.txt'}"
   ]
  },
  {
   "cell_type": "code",
   "execution_count": 7,
   "metadata": {
    "code_folding": []
   },
   "outputs": [
    {
     "name": "stdout",
     "output_type": "stream",
     "text": [
      "Vocabulary dictionary : abcdefghijklmnopqrstuvwxyz .,;'\n",
      "\n",
      "Vocabulary size : 31\n",
      "\n",
      "{'a': 0, 'b': 1, 'c': 2, 'd': 3, 'e': 4, 'f': 5, 'g': 6, 'h': 7, 'i': 8, 'j': 9, 'k': 10, 'l': 11, 'm': 12, 'n': 13, 'o': 14, 'p': 15, 'q': 16, 'r': 17, 's': 18, 't': 19, 'u': 20, 'v': 21, 'w': 22, 'x': 23, 'y': 24, 'z': 25, ' ': 26, '.': 27, ',': 28, ';': 29, \"'\": 30}\n",
      "\n",
      "{0: 'a', 1: 'b', 2: 'c', 3: 'd', 4: 'e', 5: 'f', 6: 'g', 7: 'h', 8: 'i', 9: 'j', 10: 'k', 11: 'l', 12: 'm', 13: 'n', 14: 'o', 15: 'p', 16: 'q', 17: 'r', 18: 's', 19: 't', 20: 'u', 21: 'v', 22: 'w', 23: 'x', 24: 'y', 25: 'z', 26: ' ', 27: '.', 28: ',', 29: ';', 30: \"'\"}\n"
     ]
    }
   ],
   "source": [
    "# Create vocabulary\n",
    "vocab = string.ascii_lowercase + \" .,;'\"\n",
    "vocab_size = len(vocab)\n",
    "\n",
    "# Create characters to indices and vise versa\n",
    "char_idx = {char: i for i, char in enumerate(vocab)}\n",
    "idx_char = {i: char for i, char in enumerate(vocab)}\n",
    "print(f'Vocabulary dictionary : {vocab}\\n')\n",
    "print(f'Vocabulary size : {vocab_size}\\n')\n",
    "print(char_idx, end='\\n\\n')\n",
    "print(idx_char)"
   ]
  },
  {
   "cell_type": "code",
   "execution_count": 8,
   "metadata": {
    "code_folding": [
     3
    ]
   },
   "outputs": [
    {
     "data": {
      "text/plain": [
       "'slusarski'"
      ]
     },
     "execution_count": 8,
     "metadata": {},
     "output_type": "execute_result"
    }
   ],
   "source": [
    "def unicode_to_ascii(s, vocab):\n",
    "    '''Convert a unicode string to ascii.'''\n",
    "    res = []\n",
    "    for c in unicodedata.normalize('NFD', s.lower()):\n",
    "        if unicodedata.category(c) != 'Mn' and c in vocab:\n",
    "            res.append(c)\n",
    "    return ''.join(res)\n",
    "\n",
    "unicode_to_ascii('Ślusàrski', vocab)"
   ]
  },
  {
   "cell_type": "code",
   "execution_count": 9,
   "metadata": {
    "code_folding": []
   },
   "outputs": [],
   "source": [
    "def read_file(fname, vocab):\n",
    "    '''Read file, split lines into words, and convert them to ascii.'''\n",
    "    with open(fname, 'r', encoding='utf-8') as f:\n",
    "        names = f.read().strip().lower().split('\\n')\n",
    "        names_ascii = [unicode_to_ascii(name, vocab) for name in names]\n",
    "    return names_ascii"
   ]
  },
  {
   "cell_type": "code",
   "execution_count": 12,
   "metadata": {
    "code_folding": []
   },
   "outputs": [
    {
     "data": {
      "text/plain": [
       "(31, 18, ['khoury', 'nahas', 'daher', 'gerges', 'nazari'])"
      ]
     },
     "execution_count": 12,
     "metadata": {},
     "output_type": "execute_result"
    }
   ],
   "source": [
    "# Get the data\n",
    "languages = []\n",
    "language_names = {}\n",
    "\n",
    "for fname in list(PATH.glob('*.txt')):\n",
    "    language = fname.stem\n",
    "    languages.append(language)\n",
    "    names = read_file(fname, vocab)\n",
    "    language_names[language] = names\n",
    "\n",
    "n_classes = len(languages)\n",
    "vocab_size, n_classes, language_names['Arabic'][:5]"
   ]
  },
  {
   "cell_type": "code",
   "execution_count": 13,
   "metadata": {},
   "outputs": [],
   "source": [
    "def name_to_tensor(name, vocab_size):\n",
    "    '''Convert name into tensor of one-hot encoding.'''\n",
    "    idxs = [char_idx[char] for char in name]\n",
    "    name_tensor = torch.zeros(len(name), 1, vocab_size)\n",
    "    for t in range(len(name)):\n",
    "        name_tensor[t][0][idxs[t]] = 1\n",
    "    \n",
    "    return name_tensor"
   ]
  },
  {
   "cell_type": "code",
   "execution_count": 15,
   "metadata": {},
   "outputs": [
    {
     "data": {
      "text/plain": [
       "tensor([[[1., 0., 0., 0., 0., 0., 0., 0., 0., 0., 0., 0., 0., 0., 0., 0., 0.,\n",
       "          0., 0., 0., 0., 0., 0., 0., 0., 0., 0., 0., 0., 0., 0.]],\n",
       "\n",
       "        [[0., 1., 0., 0., 0., 0., 0., 0., 0., 0., 0., 0., 0., 0., 0., 0., 0.,\n",
       "          0., 0., 0., 0., 0., 0., 0., 0., 0., 0., 0., 0., 0., 0.]],\n",
       "\n",
       "        [[0., 0., 1., 0., 0., 0., 0., 0., 0., 0., 0., 0., 0., 0., 0., 0., 0.,\n",
       "          0., 0., 0., 0., 0., 0., 0., 0., 0., 0., 0., 0., 0., 0.]],\n",
       "\n",
       "        [[0., 0., 0., 1., 0., 0., 0., 0., 0., 0., 0., 0., 0., 0., 0., 0., 0.,\n",
       "          0., 0., 0., 0., 0., 0., 0., 0., 0., 0., 0., 0., 0., 0.]]])"
      ]
     },
     "execution_count": 15,
     "metadata": {},
     "output_type": "execute_result"
    }
   ],
   "source": [
    "name_to_tensor('abcd', vocab_size)"
   ]
  },
  {
   "cell_type": "markdown",
   "metadata": {},
   "source": [
    "# RNN"
   ]
  },
  {
   "cell_type": "code",
   "execution_count": 98,
   "metadata": {
    "code_folding": [
     0
    ]
   },
   "outputs": [],
   "source": [
    "class RNN(nn.Module):\n",
    "    '''Creating one hidden layer RNN.'''\n",
    "    \n",
    "    def __init__(self, input_size, hidden_size, output_size):\n",
    "        super().__init__()\n",
    "        self.input_size = input_size\n",
    "        self.hidden_size = hidden_size\n",
    "        self.output_size = output_size\n",
    "        self.input_to_hidden = nn.Linear(self.input_size + self.hidden_size,\n",
    "                                         self.hidden_size)\n",
    "        self.input_to_output = nn.Linear(self.input_size + self.hidden_size,\n",
    "                                         self.output_size)\n",
    "        self.softmax = nn.LogSoftmax(dim=1)\n",
    "    \n",
    "    def forward(self, input_word, hidden_state):\n",
    "        combined = torch.cat([hidden_state, input_word], 1)\n",
    "        hidden_state = self.input_to_hidden(combined)\n",
    "        output = self.input_to_output(combined)\n",
    "        output = self.softmax(output)\n",
    "        return output, hidden_state\n",
    "    \n",
    "    def initialize_hidden_state(self):\n",
    "        return torch.zeros(1, self.hidden_size)"
   ]
  },
  {
   "cell_type": "markdown",
   "metadata": {
    "heading_collapsed": true
   },
   "source": [
    "# Training"
   ]
  },
  {
   "cell_type": "code",
   "execution_count": 99,
   "metadata": {
    "code_folding": [
     0
    ],
    "hidden": true
   },
   "outputs": [],
   "source": [
    "def names_dataloader(language_names, vocab_size):\n",
    "    '''Loading name and language as tensors to be used in RNN training.'''\n",
    "    # Randomly select a language and then create 1-D tensor\n",
    "    languages = list(language_names.keys())\n",
    "    n_classes = len(languages)\n",
    "    language = np.random.choice(languages)\n",
    "#     label_tensor = torch.zeros(1, n_classes, dtype=torch.int64)\n",
    "#     label_tensor[:, languages.index(language)] = 1\n",
    "    label_tensor = torch.tensor([languages.index(language)], dtype=torch.int64)\n",
    "    \n",
    "    # Get a random name from the language above\n",
    "    name = np.random.choice(language_names[language])\n",
    "    name_tensor = name_to_tensor(name, vocab_size)\n",
    "    \n",
    "    return name, language, name_tensor, label_tensor"
   ]
  },
  {
   "cell_type": "code",
   "execution_count": 100,
   "metadata": {
    "collapsed": true,
    "hidden": true
   },
   "outputs": [
    {
     "data": {
      "text/plain": [
       "('klein',\n",
       " 'Dutch',\n",
       " tensor([[[0., 0., 0., 0., 0., 0., 0., 0., 0., 0., 1., 0., 0., 0., 0., 0., 0.,\n",
       "           0., 0., 0., 0., 0., 0., 0., 0., 0., 0., 0., 0., 0., 0.]],\n",
       " \n",
       "         [[0., 0., 0., 0., 0., 0., 0., 0., 0., 0., 0., 1., 0., 0., 0., 0., 0.,\n",
       "           0., 0., 0., 0., 0., 0., 0., 0., 0., 0., 0., 0., 0., 0.]],\n",
       " \n",
       "         [[0., 0., 0., 0., 1., 0., 0., 0., 0., 0., 0., 0., 0., 0., 0., 0., 0.,\n",
       "           0., 0., 0., 0., 0., 0., 0., 0., 0., 0., 0., 0., 0., 0.]],\n",
       " \n",
       "         [[0., 0., 0., 0., 0., 0., 0., 0., 1., 0., 0., 0., 0., 0., 0., 0., 0.,\n",
       "           0., 0., 0., 0., 0., 0., 0., 0., 0., 0., 0., 0., 0., 0.]],\n",
       " \n",
       "         [[0., 0., 0., 0., 0., 0., 0., 0., 0., 0., 0., 0., 0., 1., 0., 0., 0.,\n",
       "           0., 0., 0., 0., 0., 0., 0., 0., 0., 0., 0., 0., 0., 0.]]]),\n",
       " tensor([15]))"
      ]
     },
     "execution_count": 100,
     "metadata": {},
     "output_type": "execute_result"
    }
   ],
   "source": [
    "names_dataloader(language_names, vocab_size)"
   ]
  },
  {
   "cell_type": "code",
   "execution_count": 121,
   "metadata": {
    "code_folding": [],
    "hidden": true
   },
   "outputs": [],
   "source": [
    "# Split data into 80% training and 20% validation\n",
    "training_data = {}\n",
    "valid_data = {}\n",
    "\n",
    "for language, names in language_names.items():\n",
    "    size = len(names)\n",
    "    train_size = int(size * 0.8)\n",
    "    shuffled_idxs = np.random.permutation(range(size))\n",
    "    names = list(np.array(names)[shuffled_idxs])\n",
    "    training_data[language] = names[:train_size]\n",
    "    valid_data[language] = names[train_size:]"
   ]
  },
  {
   "cell_type": "code",
   "execution_count": 122,
   "metadata": {
    "hidden": true
   },
   "outputs": [],
   "source": [
    "# Instantiate the model\n",
    "hidden_size = 128\n",
    "rnn = RNN(vocab_size, hidden_size, n_classes)\n",
    "\n",
    "# Loss and optimizer\n",
    "criterion = nn.NLLLoss()\n",
    "optimizer = optim.Adam(rnn.parameters())"
   ]
  },
  {
   "cell_type": "code",
   "execution_count": 123,
   "metadata": {
    "hidden": true
   },
   "outputs": [
    {
     "name": "stdout",
     "output_type": "stream",
     "text": [
      "Iteration :   5000, Loss : 1.497.\n",
      "Iteration :  10000, Loss : 1.995.\n",
      "Iteration :  15000, Loss : 2.900.\n",
      "Iteration :  20000, Loss : 2.308.\n",
      "Iteration :  25000, Loss : 3.738.\n",
      "Iteration :  30000, Loss : 0.687.\n",
      "Iteration :  35000, Loss : 3.987.\n",
      "Iteration :  40000, Loss : 1.256.\n",
      "Iteration :  45000, Loss : 1.615.\n",
      "Iteration :  50000, Loss : 0.497.\n",
      "Iteration :  55000, Loss : 0.663.\n",
      "Iteration :  60000, Loss : 1.853.\n",
      "Iteration :  65000, Loss : 0.518.\n",
      "Iteration :  70000, Loss : 0.479.\n",
      "Iteration :  75000, Loss : 0.940.\n",
      "Iteration :  80000, Loss : 0.968.\n",
      "Iteration :  85000, Loss : 2.155.\n",
      "Iteration :  90000, Loss : 0.022.\n",
      "Iteration :  95000, Loss : 0.280.\n",
      "Iteration : 100000, Loss : 0.007.\n"
     ]
    }
   ],
   "source": [
    "n_iterations = 100000\n",
    "start = time.time()\n",
    "total_loss = []\n",
    "current_loss = 0\n",
    "for i in range(n_iterations):\n",
    "    # Initialize hidden state to zero\n",
    "    hidden_state = rnn.initialize_hidden_state()\n",
    "    \n",
    "    # Get name and label tensors\n",
    "    _, _, name_tensor, label_tensor = names_dataloader(training_data, vocab_size)\n",
    "    \n",
    "    # Zeros gradients\n",
    "    optimizer.zero_grad()\n",
    "    \n",
    "    # Iterate over all characters in name\n",
    "    for char in name_tensor:\n",
    "        output, hidden_state = rnn(char, hidden_state)\n",
    "    \n",
    "    loss = criterion(output, label_tensor)\n",
    "    current_loss += loss\n",
    "    \n",
    "    # Compute gradients\n",
    "    loss.backward()\n",
    "    \n",
    "    # Update weights\n",
    "    optimizer.step()\n",
    "    \n",
    "    if (i + 1) % 5000 == 0:\n",
    "        print(f'Iteration : {i + 1:>6}, Loss : {loss:.3f}.')\n",
    "    \n",
    "    if (i + 1) % 10000 == 0:\n",
    "        total_loss.append(current_loss / 10000)\n",
    "        current_loss = 0"
   ]
  },
  {
   "cell_type": "code",
   "execution_count": 124,
   "metadata": {
    "hidden": true
   },
   "outputs": [
    {
     "data": {
      "text/plain": [
       "[<matplotlib.lines.Line2D at 0x1229e2f98>]"
      ]
     },
     "execution_count": 124,
     "metadata": {},
     "output_type": "execute_result"
    },
    {
     "data": {
      "image/png": "[encoded data removed]",
      "text/plain": [
       "<Figure size 432x288 with 1 Axes>"
      ]
     },
     "metadata": {},
     "output_type": "display_data"
    }
   ],
   "source": [
    "plt.plot(total_loss)"
   ]
  },
  {
   "cell_type": "code",
   "execution_count": 145,
   "metadata": {
    "hidden": true
   },
   "outputs": [
    {
     "data": {
      "text/html": [
       "<div>\n",
       "<style scoped>\n",
       "    .dataframe tbody tr th:only-of-type {\n",
       "        vertical-align: middle;\n",
       "    }\n",
       "\n",
       "    .dataframe tbody tr th {\n",
       "        vertical-align: top;\n",
       "    }\n",
       "\n",
       "    .dataframe thead th {\n",
       "        text-align: right;\n",
       "    }\n",
       "</style>\n",
       "<table border=\"1\" class=\"dataframe\">\n",
       "  <thead>\n",
       "    <tr style=\"text-align: right;\">\n",
       "      <th></th>\n",
       "      <th>Czech</th>\n",
       "      <th>German</th>\n",
       "      <th>Arabic</th>\n",
       "      <th>Japanese</th>\n",
       "      <th>Chinese</th>\n",
       "      <th>Vietnamese</th>\n",
       "      <th>Russian</th>\n",
       "      <th>French</th>\n",
       "      <th>Irish</th>\n",
       "      <th>English</th>\n",
       "      <th>Spanish</th>\n",
       "      <th>Greek</th>\n",
       "      <th>Italian</th>\n",
       "      <th>Portuguese</th>\n",
       "      <th>Scottish</th>\n",
       "      <th>Dutch</th>\n",
       "      <th>Korean</th>\n",
       "      <th>Polish</th>\n",
       "    </tr>\n",
       "  </thead>\n",
       "  <tbody>\n",
       "    <tr>\n",
       "      <th>Czech</th>\n",
       "      <td>NaN</td>\n",
       "      <td>NaN</td>\n",
       "      <td>NaN</td>\n",
       "      <td>NaN</td>\n",
       "      <td>NaN</td>\n",
       "      <td>NaN</td>\n",
       "      <td>NaN</td>\n",
       "      <td>NaN</td>\n",
       "      <td>NaN</td>\n",
       "      <td>NaN</td>\n",
       "      <td>NaN</td>\n",
       "      <td>NaN</td>\n",
       "      <td>NaN</td>\n",
       "      <td>NaN</td>\n",
       "      <td>NaN</td>\n",
       "      <td>NaN</td>\n",
       "      <td>NaN</td>\n",
       "      <td>NaN</td>\n",
       "    </tr>\n",
       "    <tr>\n",
       "      <th>German</th>\n",
       "      <td>NaN</td>\n",
       "      <td>NaN</td>\n",
       "      <td>NaN</td>\n",
       "      <td>NaN</td>\n",
       "      <td>NaN</td>\n",
       "      <td>NaN</td>\n",
       "      <td>NaN</td>\n",
       "      <td>NaN</td>\n",
       "      <td>NaN</td>\n",
       "      <td>NaN</td>\n",
       "      <td>NaN</td>\n",
       "      <td>NaN</td>\n",
       "      <td>NaN</td>\n",
       "      <td>NaN</td>\n",
       "      <td>NaN</td>\n",
       "      <td>NaN</td>\n",
       "      <td>NaN</td>\n",
       "      <td>NaN</td>\n",
       "    </tr>\n",
       "    <tr>\n",
       "      <th>Arabic</th>\n",
       "      <td>NaN</td>\n",
       "      <td>NaN</td>\n",
       "      <td>NaN</td>\n",
       "      <td>NaN</td>\n",
       "      <td>NaN</td>\n",
       "      <td>NaN</td>\n",
       "      <td>NaN</td>\n",
       "      <td>NaN</td>\n",
       "      <td>NaN</td>\n",
       "      <td>NaN</td>\n",
       "      <td>NaN</td>\n",
       "      <td>NaN</td>\n",
       "      <td>NaN</td>\n",
       "      <td>NaN</td>\n",
       "      <td>NaN</td>\n",
       "      <td>NaN</td>\n",
       "      <td>NaN</td>\n",
       "      <td>NaN</td>\n",
       "    </tr>\n",
       "    <tr>\n",
       "      <th>Japanese</th>\n",
       "      <td>NaN</td>\n",
       "      <td>NaN</td>\n",
       "      <td>NaN</td>\n",
       "      <td>NaN</td>\n",
       "      <td>NaN</td>\n",
       "      <td>NaN</td>\n",
       "      <td>NaN</td>\n",
       "      <td>NaN</td>\n",
       "      <td>NaN</td>\n",
       "      <td>NaN</td>\n",
       "      <td>NaN</td>\n",
       "      <td>NaN</td>\n",
       "      <td>NaN</td>\n",
       "      <td>NaN</td>\n",
       "      <td>NaN</td>\n",
       "      <td>NaN</td>\n",
       "      <td>NaN</td>\n",
       "      <td>NaN</td>\n",
       "    </tr>\n",
       "    <tr>\n",
       "      <th>Chinese</th>\n",
       "      <td>NaN</td>\n",
       "      <td>NaN</td>\n",
       "      <td>NaN</td>\n",
       "      <td>NaN</td>\n",
       "      <td>NaN</td>\n",
       "      <td>NaN</td>\n",
       "      <td>NaN</td>\n",
       "      <td>NaN</td>\n",
       "      <td>NaN</td>\n",
       "      <td>NaN</td>\n",
       "      <td>NaN</td>\n",
       "      <td>NaN</td>\n",
       "      <td>NaN</td>\n",
       "      <td>NaN</td>\n",
       "      <td>NaN</td>\n",
       "      <td>NaN</td>\n",
       "      <td>NaN</td>\n",
       "      <td>NaN</td>\n",
       "    </tr>\n",
       "    <tr>\n",
       "      <th>Vietnamese</th>\n",
       "      <td>NaN</td>\n",
       "      <td>NaN</td>\n",
       "      <td>NaN</td>\n",
       "      <td>NaN</td>\n",
       "      <td>NaN</td>\n",
       "      <td>NaN</td>\n",
       "      <td>NaN</td>\n",
       "      <td>NaN</td>\n",
       "      <td>NaN</td>\n",
       "      <td>NaN</td>\n",
       "      <td>NaN</td>\n",
       "      <td>NaN</td>\n",
       "      <td>NaN</td>\n",
       "      <td>NaN</td>\n",
       "      <td>NaN</td>\n",
       "      <td>NaN</td>\n",
       "      <td>NaN</td>\n",
       "      <td>NaN</td>\n",
       "    </tr>\n",
       "    <tr>\n",
       "      <th>Russian</th>\n",
       "      <td>NaN</td>\n",
       "      <td>NaN</td>\n",
       "      <td>NaN</td>\n",
       "      <td>NaN</td>\n",
       "      <td>NaN</td>\n",
       "      <td>NaN</td>\n",
       "      <td>NaN</td>\n",
       "      <td>NaN</td>\n",
       "      <td>NaN</td>\n",
       "      <td>NaN</td>\n",
       "      <td>NaN</td>\n",
       "      <td>NaN</td>\n",
       "      <td>NaN</td>\n",
       "      <td>NaN</td>\n",
       "      <td>NaN</td>\n",
       "      <td>NaN</td>\n",
       "      <td>NaN</td>\n",
       "      <td>NaN</td>\n",
       "    </tr>\n",
       "    <tr>\n",
       "      <th>French</th>\n",
       "      <td>NaN</td>\n",
       "      <td>NaN</td>\n",
       "      <td>NaN</td>\n",
       "      <td>NaN</td>\n",
       "      <td>NaN</td>\n",
       "      <td>NaN</td>\n",
       "      <td>NaN</td>\n",
       "      <td>NaN</td>\n",
       "      <td>NaN</td>\n",
       "      <td>NaN</td>\n",
       "      <td>NaN</td>\n",
       "      <td>NaN</td>\n",
       "      <td>NaN</td>\n",
       "      <td>NaN</td>\n",
       "      <td>NaN</td>\n",
       "      <td>NaN</td>\n",
       "      <td>NaN</td>\n",
       "      <td>NaN</td>\n",
       "    </tr>\n",
       "    <tr>\n",
       "      <th>Irish</th>\n",
       "      <td>NaN</td>\n",
       "      <td>NaN</td>\n",
       "      <td>NaN</td>\n",
       "      <td>NaN</td>\n",
       "      <td>NaN</td>\n",
       "      <td>NaN</td>\n",
       "      <td>NaN</td>\n",
       "      <td>NaN</td>\n",
       "      <td>NaN</td>\n",
       "      <td>NaN</td>\n",
       "      <td>NaN</td>\n",
       "      <td>NaN</td>\n",
       "      <td>NaN</td>\n",
       "      <td>NaN</td>\n",
       "      <td>NaN</td>\n",
       "      <td>NaN</td>\n",
       "      <td>NaN</td>\n",
       "      <td>NaN</td>\n",
       "    </tr>\n",
       "    <tr>\n",
       "      <th>English</th>\n",
       "      <td>NaN</td>\n",
       "      <td>NaN</td>\n",
       "      <td>NaN</td>\n",
       "      <td>NaN</td>\n",
       "      <td>NaN</td>\n",
       "      <td>NaN</td>\n",
       "      <td>NaN</td>\n",
       "      <td>NaN</td>\n",
       "      <td>NaN</td>\n",
       "      <td>NaN</td>\n",
       "      <td>NaN</td>\n",
       "      <td>NaN</td>\n",
       "      <td>NaN</td>\n",
       "      <td>NaN</td>\n",
       "      <td>NaN</td>\n",
       "      <td>NaN</td>\n",
       "      <td>NaN</td>\n",
       "      <td>NaN</td>\n",
       "    </tr>\n",
       "    <tr>\n",
       "      <th>Spanish</th>\n",
       "      <td>NaN</td>\n",
       "      <td>NaN</td>\n",
       "      <td>NaN</td>\n",
       "      <td>NaN</td>\n",
       "      <td>NaN</td>\n",
       "      <td>NaN</td>\n",
       "      <td>NaN</td>\n",
       "      <td>NaN</td>\n",
       "      <td>NaN</td>\n",
       "      <td>NaN</td>\n",
       "      <td>NaN</td>\n",
       "      <td>NaN</td>\n",
       "      <td>NaN</td>\n",
       "      <td>NaN</td>\n",
       "      <td>NaN</td>\n",
       "      <td>NaN</td>\n",
       "      <td>NaN</td>\n",
       "      <td>NaN</td>\n",
       "    </tr>\n",
       "    <tr>\n",
       "      <th>Greek</th>\n",
       "      <td>NaN</td>\n",
       "      <td>NaN</td>\n",
       "      <td>NaN</td>\n",
       "      <td>NaN</td>\n",
       "      <td>NaN</td>\n",
       "      <td>NaN</td>\n",
       "      <td>NaN</td>\n",
       "      <td>NaN</td>\n",
       "      <td>NaN</td>\n",
       "      <td>NaN</td>\n",
       "      <td>NaN</td>\n",
       "      <td>NaN</td>\n",
       "      <td>NaN</td>\n",
       "      <td>NaN</td>\n",
       "      <td>NaN</td>\n",
       "      <td>NaN</td>\n",
       "      <td>NaN</td>\n",
       "      <td>NaN</td>\n",
       "    </tr>\n",
       "    <tr>\n",
       "      <th>Italian</th>\n",
       "      <td>NaN</td>\n",
       "      <td>NaN</td>\n",
       "      <td>NaN</td>\n",
       "      <td>NaN</td>\n",
       "      <td>NaN</td>\n",
       "      <td>NaN</td>\n",
       "      <td>NaN</td>\n",
       "      <td>NaN</td>\n",
       "      <td>NaN</td>\n",
       "      <td>NaN</td>\n",
       "      <td>NaN</td>\n",
       "      <td>NaN</td>\n",
       "      <td>NaN</td>\n",
       "      <td>NaN</td>\n",
       "      <td>NaN</td>\n",
       "      <td>NaN</td>\n",
       "      <td>NaN</td>\n",
       "      <td>NaN</td>\n",
       "    </tr>\n",
       "    <tr>\n",
       "      <th>Portuguese</th>\n",
       "      <td>NaN</td>\n",
       "      <td>NaN</td>\n",
       "      <td>NaN</td>\n",
       "      <td>NaN</td>\n",
       "      <td>NaN</td>\n",
       "      <td>NaN</td>\n",
       "      <td>NaN</td>\n",
       "      <td>NaN</td>\n",
       "      <td>NaN</td>\n",
       "      <td>NaN</td>\n",
       "      <td>NaN</td>\n",
       "      <td>NaN</td>\n",
       "      <td>NaN</td>\n",
       "      <td>NaN</td>\n",
       "      <td>NaN</td>\n",
       "      <td>NaN</td>\n",
       "      <td>NaN</td>\n",
       "      <td>NaN</td>\n",
       "    </tr>\n",
       "    <tr>\n",
       "      <th>Scottish</th>\n",
       "      <td>NaN</td>\n",
       "      <td>NaN</td>\n",
       "      <td>NaN</td>\n",
       "      <td>NaN</td>\n",
       "      <td>NaN</td>\n",
       "      <td>NaN</td>\n",
       "      <td>NaN</td>\n",
       "      <td>NaN</td>\n",
       "      <td>NaN</td>\n",
       "      <td>NaN</td>\n",
       "      <td>NaN</td>\n",
       "      <td>NaN</td>\n",
       "      <td>NaN</td>\n",
       "      <td>NaN</td>\n",
       "      <td>NaN</td>\n",
       "      <td>NaN</td>\n",
       "      <td>NaN</td>\n",
       "      <td>NaN</td>\n",
       "    </tr>\n",
       "    <tr>\n",
       "      <th>Dutch</th>\n",
       "      <td>NaN</td>\n",
       "      <td>NaN</td>\n",
       "      <td>NaN</td>\n",
       "      <td>NaN</td>\n",
       "      <td>NaN</td>\n",
       "      <td>NaN</td>\n",
       "      <td>NaN</td>\n",
       "      <td>NaN</td>\n",
       "      <td>NaN</td>\n",
       "      <td>NaN</td>\n",
       "      <td>NaN</td>\n",
       "      <td>NaN</td>\n",
       "      <td>NaN</td>\n",
       "      <td>NaN</td>\n",
       "      <td>NaN</td>\n",
       "      <td>NaN</td>\n",
       "      <td>NaN</td>\n",
       "      <td>NaN</td>\n",
       "    </tr>\n",
       "    <tr>\n",
       "      <th>Korean</th>\n",
       "      <td>NaN</td>\n",
       "      <td>NaN</td>\n",
       "      <td>NaN</td>\n",
       "      <td>NaN</td>\n",
       "      <td>NaN</td>\n",
       "      <td>NaN</td>\n",
       "      <td>NaN</td>\n",
       "      <td>NaN</td>\n",
       "      <td>NaN</td>\n",
       "      <td>NaN</td>\n",
       "      <td>NaN</td>\n",
       "      <td>NaN</td>\n",
       "      <td>NaN</td>\n",
       "      <td>NaN</td>\n",
       "      <td>NaN</td>\n",
       "      <td>NaN</td>\n",
       "      <td>NaN</td>\n",
       "      <td>NaN</td>\n",
       "    </tr>\n",
       "    <tr>\n",
       "      <th>Polish</th>\n",
       "      <td>NaN</td>\n",
       "      <td>NaN</td>\n",
       "      <td>NaN</td>\n",
       "      <td>NaN</td>\n",
       "      <td>NaN</td>\n",
       "      <td>NaN</td>\n",
       "      <td>NaN</td>\n",
       "      <td>NaN</td>\n",
       "      <td>NaN</td>\n",
       "      <td>NaN</td>\n",
       "      <td>NaN</td>\n",
       "      <td>NaN</td>\n",
       "      <td>NaN</td>\n",
       "      <td>NaN</td>\n",
       "      <td>NaN</td>\n",
       "      <td>NaN</td>\n",
       "      <td>NaN</td>\n",
       "      <td>NaN</td>\n",
       "    </tr>\n",
       "  </tbody>\n",
       "</table>\n",
       "</div>"
      ],
      "text/plain": [
       "            Czech  German  Arabic  Japanese  Chinese  Vietnamese  Russian  \\\n",
       "Czech         NaN     NaN     NaN       NaN      NaN         NaN      NaN   \n",
       "German        NaN     NaN     NaN       NaN      NaN         NaN      NaN   \n",
       "Arabic        NaN     NaN     NaN       NaN      NaN         NaN      NaN   \n",
       "Japanese      NaN     NaN     NaN       NaN      NaN         NaN      NaN   \n",
       "Chinese       NaN     NaN     NaN       NaN      NaN         NaN      NaN   \n",
       "Vietnamese    NaN     NaN     NaN       NaN      NaN         NaN      NaN   \n",
       "Russian       NaN     NaN     NaN       NaN      NaN         NaN      NaN   \n",
       "French        NaN     NaN     NaN       NaN      NaN         NaN      NaN   \n",
       "Irish         NaN     NaN     NaN       NaN      NaN         NaN      NaN   \n",
       "English       NaN     NaN     NaN       NaN      NaN         NaN      NaN   \n",
       "Spanish       NaN     NaN     NaN       NaN      NaN         NaN      NaN   \n",
       "Greek         NaN     NaN     NaN       NaN      NaN         NaN      NaN   \n",
       "Italian       NaN     NaN     NaN       NaN      NaN         NaN      NaN   \n",
       "Portuguese    NaN     NaN     NaN       NaN      NaN         NaN      NaN   \n",
       "Scottish      NaN     NaN     NaN       NaN      NaN         NaN      NaN   \n",
       "Dutch         NaN     NaN     NaN       NaN      NaN         NaN      NaN   \n",
       "Korean        NaN     NaN     NaN       NaN      NaN         NaN      NaN   \n",
       "Polish        NaN     NaN     NaN       NaN      NaN         NaN      NaN   \n",
       "\n",
       "            French  Irish  English  Spanish  Greek  Italian  Portuguese  \\\n",
       "Czech          NaN    NaN      NaN      NaN    NaN      NaN         NaN   \n",
       "German         NaN    NaN      NaN      NaN    NaN      NaN         NaN   \n",
       "Arabic         NaN    NaN      NaN      NaN    NaN      NaN         NaN   \n",
       "Japanese       NaN    NaN      NaN      NaN    NaN      NaN         NaN   \n",
       "Chinese        NaN    NaN      NaN      NaN    NaN      NaN         NaN   \n",
       "Vietnamese     NaN    NaN      NaN      NaN    NaN      NaN         NaN   \n",
       "Russian        NaN    NaN      NaN      NaN    NaN      NaN         NaN   \n",
       "French         NaN    NaN      NaN      NaN    NaN      NaN         NaN   \n",
       "Irish          NaN    NaN      NaN      NaN    NaN      NaN         NaN   \n",
       "English        NaN    NaN      NaN      NaN    NaN      NaN         NaN   \n",
       "Spanish        NaN    NaN      NaN      NaN    NaN      NaN         NaN   \n",
       "Greek          NaN    NaN      NaN      NaN    NaN      NaN         NaN   \n",
       "Italian        NaN    NaN      NaN      NaN    NaN      NaN         NaN   \n",
       "Portuguese     NaN    NaN      NaN      NaN    NaN      NaN         NaN   \n",
       "Scottish       NaN    NaN      NaN      NaN    NaN      NaN         NaN   \n",
       "Dutch          NaN    NaN      NaN      NaN    NaN      NaN         NaN   \n",
       "Korean         NaN    NaN      NaN      NaN    NaN      NaN         NaN   \n",
       "Polish         NaN    NaN      NaN      NaN    NaN      NaN         NaN   \n",
       "\n",
       "            Scottish  Dutch  Korean  Polish  \n",
       "Czech            NaN    NaN     NaN     NaN  \n",
       "German           NaN    NaN     NaN     NaN  \n",
       "Arabic           NaN    NaN     NaN     NaN  \n",
       "Japanese         NaN    NaN     NaN     NaN  \n",
       "Chinese          NaN    NaN     NaN     NaN  \n",
       "Vietnamese       NaN    NaN     NaN     NaN  \n",
       "Russian          NaN    NaN     NaN     NaN  \n",
       "French           NaN    NaN     NaN     NaN  \n",
       "Irish            NaN    NaN     NaN     NaN  \n",
       "English          NaN    NaN     NaN     NaN  \n",
       "Spanish          NaN    NaN     NaN     NaN  \n",
       "Greek            NaN    NaN     NaN     NaN  \n",
       "Italian          NaN    NaN     NaN     NaN  \n",
       "Portuguese       NaN    NaN     NaN     NaN  \n",
       "Scottish         NaN    NaN     NaN     NaN  \n",
       "Dutch            NaN    NaN     NaN     NaN  \n",
       "Korean           NaN    NaN     NaN     NaN  \n",
       "Polish           NaN    NaN     NaN     NaN  "
      ]
     },
     "execution_count": 145,
     "metadata": {},
     "output_type": "execute_result"
    }
   ],
   "source": [
    "import pandas as pd\n",
    "confusion_matrix = pd.DataFrame(columns=languages, index=languages, dtype=np.int64)\n",
    "confusion_matrix"
   ]
  },
  {
   "cell_type": "code",
   "execution_count": 146,
   "metadata": {
    "hidden": true
   },
   "outputs": [
    {
     "data": {
      "text/plain": [
       "<matplotlib.image.AxesImage at 0x1245bb320>"
      ]
     },
     "execution_count": 146,
     "metadata": {},
     "output_type": "execute_result"
    },
    {
     "data": {
      "image/png": "[encoded data removed]",
      "text/plain": [
       "<Figure size 288x288 with 1 Axes>"
      ]
     },
     "metadata": {},
     "output_type": "display_data"
    }
   ],
   "source": [
    "plt.matshow(confusion_matrix)"
   ]
  },
  {
   "cell_type": "code",
   "execution_count": 149,
   "metadata": {
    "hidden": true
   },
   "outputs": [],
   "source": [
    "with torch.no_grad():\n",
    "    class_total = list(range(n_classes))\n",
    "    correct_class = list(range(n_classes))\n",
    "    for language in valid_data.keys():\n",
    "        for name in valid_data[language]:\n",
    "            name_tensor = name_to_tensor(name, vocab_size)\n",
    "            hidden_state = rnn.initialize_hidden_state()\n",
    "            for char in name_tensor:\n",
    "                output, hidden_state = rnn(char, hidden_state)\n",
    "            pred = languages[torch.argmax(output)]\n",
    "            label_idx = languages.index(language)\n",
    "            class_total[label_idx] += 1 \n",
    "            correct_class[label_idx] += language == pred\n",
    "            confusion_matrix.loc[language, pred] += 1"
   ]
  },
  {
   "cell_type": "code",
   "execution_count": 172,
   "metadata": {
    "hidden": true
   },
   "outputs": [
    {
     "data": {
      "image/png": "[encoded data removed]",
      "text/plain": [
       "<Figure size 1152x864 with 2 Axes>"
      ]
     },
     "metadata": {},
     "output_type": "display_data"
    }
   ],
   "source": [
    "fig = plt.figure(figsize=(16, 12))\n",
    "ax = fig.add_subplot(111)\n",
    "cax = ax.matshow(confusion_matrix.fillna(0))\n",
    "fig.colorbar(cax)\n",
    "ax.set_xticklabels(languages, rotation=90)\n",
    "ax.set_yticklabels(languages);"
   ]
  },
  {
   "cell_type": "code",
   "execution_count": 139,
   "metadata": {
    "hidden": true
   },
   "outputs": [
    {
     "name": "stdout",
     "output_type": "stream",
     "text": [
      "Overall Accuracy : 56.64%\n"
     ]
    }
   ],
   "source": [
    "print(f'Overall Accuracy : {sum(correct_class) / sum(class_total):.2%}')"
   ]
  },
  {
   "cell_type": "code",
   "execution_count": 137,
   "metadata": {
    "hidden": true
   },
   "outputs": [
    {
     "name": "stdout",
     "output_type": "stream",
     "text": [
      "Accuracy of Czech      : 16.35%, Training Size : 519\n",
      "Accuracy of German     : 34.93%, Training Size : 724\n",
      "Accuracy of Arabic     : 68.91%, Training Size : 2000\n",
      "Accuracy of Japanese   : 80.69%, Training Size : 991\n",
      "Accuracy of Chinese    : 50.00%, Training Size : 268\n",
      "Accuracy of Vietnamese : 50.00%, Training Size : 73\n",
      "Accuracy of Russian    : 70.13%, Training Size : 9408\n",
      "Accuracy of French     : 38.10%, Training Size : 277\n",
      "Accuracy of Irish      : 63.64%, Training Size : 232\n",
      "Accuracy of English    : 16.69%, Training Size : 3668\n",
      "Accuracy of Spanish    : 54.29%, Training Size : 298\n",
      "Accuracy of Greek      : 75.00%, Training Size : 203\n",
      "Accuracy of Italian    : 57.79%, Training Size : 709\n",
      "Accuracy of Portuguese : 60.71%, Training Size : 74\n",
      "Accuracy of Scottish   : 52.94%, Training Size : 100\n",
      "Accuracy of Dutch      : 58.67%, Training Size : 297\n",
      "Accuracy of Korean     : 77.14%, Training Size : 94\n",
      "Accuracy of Polish     : 84.44%, Training Size : 139\n"
     ]
    }
   ],
   "source": [
    "for i, class_ in enumerate(languages):\n",
    "    acc = correct_class[i] / class_total[i]\n",
    "    print(f'Accuracy of {class_:<10} : {acc:.2%}, '\\\n",
    "          f'Training Size : {len(language_names[class_])}')"
   ]
  },
  {
   "cell_type": "markdown",
   "metadata": {
    "heading_collapsed": true
   },
   "source": [
    "# RNN - V1"
   ]
  },
  {
   "cell_type": "code",
   "execution_count": 174,
   "metadata": {
    "code_folding": [],
    "hidden": true
   },
   "outputs": [],
   "source": [
    "class RNN(nn.Module):\n",
    "    '''Creating one hidden layer RNN.'''\n",
    "    \n",
    "    def __init__(self, input_size, hidden_size, output_size):\n",
    "        super().__init__()\n",
    "        self.input_size = input_size\n",
    "        self.hidden_size = hidden_size\n",
    "        self.output_size = output_size\n",
    "        self.input_to_hidden = nn.Linear(self.input_size + self.hidden_size,\n",
    "                                         self.hidden_size)\n",
    "        self.hidden_to_output = nn.Linear(self.hidden_size, self.output_size)\n",
    "        self.softmax = nn.LogSoftmax(dim=1)\n",
    "    \n",
    "    def forward(self, input_word, hidden_state):\n",
    "        combined = torch.cat([hidden_state, input_word], 1)\n",
    "        hidden_state = F.tanh(self.input_to_hidden(combined))\n",
    "        output = self.hidden_to_output(hidden_state)\n",
    "        output = self.softmax(output)\n",
    "        return output, hidden_state\n",
    "    \n",
    "    def initialize_hidden_state(self):\n",
    "        return torch.zeros(1, self.hidden_size)"
   ]
  },
  {
   "cell_type": "code",
   "execution_count": 175,
   "metadata": {
    "hidden": true
   },
   "outputs": [],
   "source": [
    "# Instantiate the model\n",
    "hidden_size = 128\n",
    "rnn = RNN(vocab_size, hidden_size, n_classes)\n",
    "\n",
    "# Loss and optimizer\n",
    "criterion = nn.NLLLoss()\n",
    "optimizer = optim.Adam(rnn.parameters())"
   ]
  },
  {
   "cell_type": "code",
   "execution_count": 176,
   "metadata": {
    "hidden": true
   },
   "outputs": [
    {
     "name": "stdout",
     "output_type": "stream",
     "text": [
      "Iteration :   5000, Loss : 0.019.\n",
      "Iteration :  10000, Loss : 1.844.\n",
      "Iteration :  15000, Loss : 0.541.\n",
      "Iteration :  20000, Loss : 0.247.\n",
      "Iteration :  25000, Loss : 0.035.\n",
      "Iteration :  30000, Loss : 0.183.\n",
      "Iteration :  35000, Loss : 0.029.\n",
      "Iteration :  40000, Loss : 0.862.\n",
      "Iteration :  45000, Loss : 0.265.\n",
      "Iteration :  50000, Loss : 0.681.\n",
      "Iteration :  55000, Loss : 0.174.\n",
      "Iteration :  60000, Loss : 0.131.\n",
      "Iteration :  65000, Loss : 1.947.\n",
      "Iteration :  70000, Loss : 1.726.\n",
      "Iteration :  75000, Loss : 5.111.\n",
      "Iteration :  80000, Loss : 0.007.\n",
      "Iteration :  85000, Loss : 0.065.\n",
      "Iteration :  90000, Loss : 0.107.\n",
      "Iteration :  95000, Loss : 0.725.\n",
      "Iteration : 100000, Loss : 0.000.\n"
     ]
    }
   ],
   "source": [
    "n_iterations = 100000\n",
    "start = time.time()\n",
    "total_loss = []\n",
    "current_loss = 0\n",
    "for i in range(n_iterations):\n",
    "    # Initialize hidden state to zero\n",
    "    hidden_state = rnn.initialize_hidden_state()\n",
    "    \n",
    "    # Get name and label tensors\n",
    "    _, _, name_tensor, label_tensor = names_dataloader(training_data, vocab_size)\n",
    "    \n",
    "    # Zeros gradients\n",
    "    optimizer.zero_grad()\n",
    "    \n",
    "    # Iterate over all characters in name\n",
    "    for char in name_tensor:\n",
    "        output, hidden_state = rnn(char, hidden_state)\n",
    "    \n",
    "    loss = criterion(output, label_tensor)\n",
    "    current_loss += loss\n",
    "    \n",
    "    # Compute gradients\n",
    "    loss.backward()\n",
    "    \n",
    "    # Update weights\n",
    "    optimizer.step()\n",
    "    \n",
    "    if (i + 1) % 5000 == 0:\n",
    "        print(f'Iteration : {i + 1:>6}, Loss : {loss:.3f}.')\n",
    "    \n",
    "    if (i + 1) % 10000 == 0:\n",
    "        total_loss.append(current_loss / 10000)\n",
    "        current_loss = 0"
   ]
  },
  {
   "cell_type": "code",
   "execution_count": 177,
   "metadata": {
    "hidden": true
   },
   "outputs": [
    {
     "data": {
      "text/plain": [
       "[<matplotlib.lines.Line2D at 0x1254c38d0>]"
      ]
     },
     "execution_count": 177,
     "metadata": {},
     "output_type": "execute_result"
    },
    {
     "data": {
      "image/png": "[encoded data removed]",
      "text/plain": [
       "<Figure size 432x288 with 1 Axes>"
      ]
     },
     "metadata": {},
     "output_type": "display_data"
    }
   ],
   "source": [
    "plt.plot(total_loss)"
   ]
  },
  {
   "cell_type": "code",
   "execution_count": 178,
   "metadata": {
    "hidden": true
   },
   "outputs": [],
   "source": [
    "with torch.no_grad():\n",
    "    class_total = list(range(n_classes))\n",
    "    correct_class = list(range(n_classes))\n",
    "    for language in valid_data.keys():\n",
    "        for name in valid_data[language]:\n",
    "            name_tensor = name_to_tensor(name, vocab_size)\n",
    "            hidden_state = rnn.initialize_hidden_state()\n",
    "            for char in name_tensor:\n",
    "                output, hidden_state = rnn(char, hidden_state)\n",
    "            pred = languages[torch.argmax(output)]\n",
    "            label_idx = languages.index(language)\n",
    "            class_total[label_idx] += 1 \n",
    "            correct_class[label_idx] += language == pred\n",
    "            confusion_matrix.loc[language, pred] += 1"
   ]
  },
  {
   "cell_type": "code",
   "execution_count": 179,
   "metadata": {
    "hidden": true
   },
   "outputs": [
    {
     "name": "stdout",
     "output_type": "stream",
     "text": [
      "Overall Accuracy : 60.25%\n"
     ]
    }
   ],
   "source": [
    "print(f'Overall Accuracy : {sum(correct_class) / sum(class_total):.2%}')"
   ]
  },
  {
   "cell_type": "code",
   "execution_count": 180,
   "metadata": {
    "hidden": true
   },
   "outputs": [
    {
     "name": "stdout",
     "output_type": "stream",
     "text": [
      "Accuracy of Czech      : 36.54%, Training Size : 519\n",
      "Accuracy of German     : 47.26%, Training Size : 724\n",
      "Accuracy of Arabic     : 80.35%, Training Size : 2000\n",
      "Accuracy of Japanese   : 80.20%, Training Size : 991\n",
      "Accuracy of Chinese    : 74.14%, Training Size : 268\n",
      "Accuracy of Vietnamese : 70.00%, Training Size : 73\n",
      "Accuracy of Russian    : 73.52%, Training Size : 9408\n",
      "Accuracy of French     : 47.62%, Training Size : 277\n",
      "Accuracy of Irish      : 58.18%, Training Size : 232\n",
      "Accuracy of English    : 16.15%, Training Size : 3668\n",
      "Accuracy of Spanish    : 52.86%, Training Size : 298\n",
      "Accuracy of Greek      : 71.15%, Training Size : 203\n",
      "Accuracy of Italian    : 55.84%, Training Size : 709\n",
      "Accuracy of Portuguese : 53.57%, Training Size : 74\n",
      "Accuracy of Scottish   : 61.76%, Training Size : 100\n",
      "Accuracy of Dutch      : 56.00%, Training Size : 297\n",
      "Accuracy of Korean     : 60.00%, Training Size : 94\n",
      "Accuracy of Polish     : 82.22%, Training Size : 139\n"
     ]
    }
   ],
   "source": [
    "for i, class_ in enumerate(languages):\n",
    "    acc = correct_class[i] / class_total[i]\n",
    "    print(f'Accuracy of {class_:<10} : {acc:.2%}, '\\\n",
    "          f'Training Size : {len(language_names[class_])}')"
   ]
  },
  {
   "cell_type": "markdown",
   "metadata": {
    "heading_collapsed": true
   },
   "source": [
    "# RNN - Two Layers"
   ]
  },
  {
   "cell_type": "code",
   "execution_count": 207,
   "metadata": {
    "code_folding": [],
    "hidden": true
   },
   "outputs": [],
   "source": [
    "class RNN(nn.Module):\n",
    "    '''Creating one hidden layer RNN.'''\n",
    "    \n",
    "    def __init__(self, input_size, hidden_size, output_size):\n",
    "        super().__init__()\n",
    "        self.input_size = input_size\n",
    "        self.hidden_size = hidden_size\n",
    "        self.output_size = output_size\n",
    "        self.input_to_hidden = nn.Linear(self.input_size + self.hidden_size,\n",
    "                                         self.hidden_size)\n",
    "        self.hidden_to_hidden = nn.Linear(self.hidden_size, self.hidden_size)\n",
    "        self.hidden_to_output = nn.Linear(self.hidden_size, self.output_size)\n",
    "        self.softmax = nn.LogSoftmax(dim=1)\n",
    "    \n",
    "    def forward(self, input_word, hidden_state):\n",
    "        combined = torch.cat([hidden_state, input_word], 1)\n",
    "        hidden_state = F.tanh(self.input_to_hidden(combined))\n",
    "        hidden_state = F.tanh(hidden_state)\n",
    "        output = self.hidden_to_output(hidden_state)\n",
    "        output = self.softmax(output)\n",
    "        return output, hidden_state\n",
    "    \n",
    "    def initialize_hidden_state(self):\n",
    "        return torch.zeros(1, self.hidden_size)"
   ]
  },
  {
   "cell_type": "code",
   "execution_count": 208,
   "metadata": {
    "hidden": true
   },
   "outputs": [],
   "source": [
    "# Instantiate the model\n",
    "hidden_size = 128\n",
    "rnn = RNN(vocab_size, hidden_size, n_classes)\n",
    "\n",
    "# Loss and optimizer\n",
    "criterion = nn.NLLLoss()\n",
    "optimizer = optim.Adam(rnn.parameters())"
   ]
  },
  {
   "cell_type": "code",
   "execution_count": 209,
   "metadata": {
    "hidden": true
   },
   "outputs": [
    {
     "name": "stdout",
     "output_type": "stream",
     "text": [
      "Iteration :   5000, Loss : 1.565.\n",
      "Iteration :  10000, Loss : 2.224.\n",
      "Iteration :  15000, Loss : 0.918.\n",
      "Iteration :  20000, Loss : 0.113.\n",
      "Iteration :  25000, Loss : 2.218.\n",
      "Iteration :  30000, Loss : 0.567.\n",
      "Iteration :  35000, Loss : 2.698.\n",
      "Iteration :  40000, Loss : 3.825.\n",
      "Iteration :  45000, Loss : 0.050.\n",
      "Iteration :  50000, Loss : 1.125.\n",
      "Iteration :  55000, Loss : 0.040.\n",
      "Iteration :  60000, Loss : 3.141.\n",
      "Iteration :  65000, Loss : 0.148.\n",
      "Iteration :  70000, Loss : 0.108.\n",
      "Iteration :  75000, Loss : 0.999.\n",
      "Iteration :  80000, Loss : 0.055.\n",
      "Iteration :  85000, Loss : 0.071.\n",
      "Iteration :  90000, Loss : 1.260.\n",
      "Iteration :  95000, Loss : 0.056.\n",
      "Iteration : 100000, Loss : 1.421.\n"
     ]
    }
   ],
   "source": [
    "n_iterations = 100000\n",
    "start = time.time()\n",
    "total_loss = []\n",
    "current_loss = 0\n",
    "for i in range(n_iterations):\n",
    "    # Initialize hidden state to zero\n",
    "    hidden_state = rnn.initialize_hidden_state()\n",
    "    \n",
    "    # Get name and label tensors\n",
    "    _, _, name_tensor, label_tensor = names_dataloader(training_data, vocab_size)\n",
    "    \n",
    "    # Zeros gradients\n",
    "    optimizer.zero_grad()\n",
    "    \n",
    "    # Iterate over all characters in name\n",
    "    for char in name_tensor:\n",
    "        output, hidden_state = rnn(char, hidden_state)\n",
    "    \n",
    "    loss = criterion(output, label_tensor)\n",
    "    current_loss += loss\n",
    "    \n",
    "    # Compute gradients\n",
    "    loss.backward()\n",
    "    \n",
    "    # Update weights\n",
    "    optimizer.step()\n",
    "    \n",
    "    if (i + 1) % 5000 == 0:\n",
    "        print(f'Iteration : {i + 1:>6}, Loss : {loss:.3f}.')\n",
    "    \n",
    "    if (i + 1) % 10000 == 0:\n",
    "        total_loss.append(current_loss / 10000)\n",
    "        current_loss = 0"
   ]
  },
  {
   "cell_type": "code",
   "execution_count": 210,
   "metadata": {
    "hidden": true
   },
   "outputs": [
    {
     "data": {
      "text/plain": [
       "[<matplotlib.lines.Line2D at 0x128088518>]"
      ]
     },
     "execution_count": 210,
     "metadata": {},
     "output_type": "execute_result"
    },
    {
     "data": {
      "image/png": "[encoded data removed]",
      "text/plain": [
       "<Figure size 432x288 with 1 Axes>"
      ]
     },
     "metadata": {},
     "output_type": "display_data"
    }
   ],
   "source": [
    "plt.plot(total_loss)"
   ]
  },
  {
   "cell_type": "code",
   "execution_count": 211,
   "metadata": {
    "hidden": true
   },
   "outputs": [],
   "source": [
    "with torch.no_grad():\n",
    "    class_total = list(range(n_classes))\n",
    "    correct_class = list(range(n_classes))\n",
    "    for language in valid_data.keys():\n",
    "        for name in valid_data[language]:\n",
    "            name_tensor = name_to_tensor(name, vocab_size)\n",
    "            hidden_state = rnn.initialize_hidden_state()\n",
    "            for char in name_tensor:\n",
    "                output, hidden_state = rnn(char, hidden_state)\n",
    "            pred = languages[torch.argmax(output)]\n",
    "            label_idx = languages.index(language)\n",
    "            class_total[label_idx] += 1 \n",
    "            correct_class[label_idx] += language == pred\n",
    "            confusion_matrix.loc[language, pred] += 1"
   ]
  },
  {
   "cell_type": "code",
   "execution_count": 212,
   "metadata": {
    "hidden": true
   },
   "outputs": [
    {
     "name": "stdout",
     "output_type": "stream",
     "text": [
      "Overall Accuracy : 62.79%\n"
     ]
    }
   ],
   "source": [
    "print(f'Overall Accuracy : {sum(correct_class) / sum(class_total):.2%}')"
   ]
  },
  {
   "cell_type": "code",
   "execution_count": 213,
   "metadata": {
    "hidden": true
   },
   "outputs": [
    {
     "name": "stdout",
     "output_type": "stream",
     "text": [
      "Accuracy of Czech      : 35.58%, Training Size : 519\n",
      "Accuracy of German     : 42.47%, Training Size : 724\n",
      "Accuracy of Arabic     : 81.84%, Training Size : 2000\n",
      "Accuracy of Japanese   : 73.27%, Training Size : 991\n",
      "Accuracy of Chinese    : 67.24%, Training Size : 268\n",
      "Accuracy of Vietnamese : 50.00%, Training Size : 73\n",
      "Accuracy of Russian    : 73.73%, Training Size : 9408\n",
      "Accuracy of French     : 55.56%, Training Size : 277\n",
      "Accuracy of Irish      : 67.27%, Training Size : 232\n",
      "Accuracy of English    : 32.44%, Training Size : 3668\n",
      "Accuracy of Spanish    : 42.86%, Training Size : 298\n",
      "Accuracy of Greek      : 80.77%, Training Size : 203\n",
      "Accuracy of Italian    : 64.29%, Training Size : 709\n",
      "Accuracy of Portuguese : 46.43%, Training Size : 74\n",
      "Accuracy of Scottish   : 47.06%, Training Size : 100\n",
      "Accuracy of Dutch      : 44.00%, Training Size : 297\n",
      "Accuracy of Korean     : 68.57%, Training Size : 94\n",
      "Accuracy of Polish     : 75.56%, Training Size : 139\n"
     ]
    }
   ],
   "source": [
    "for i, class_ in enumerate(languages):\n",
    "    acc = correct_class[i] / class_total[i]\n",
    "    print(f'Accuracy of {class_:<10} : {acc:.2%}, '\\\n",
    "          f'Training Size : {len(language_names[class_])}')"
   ]
  }
 ],
 "metadata": {
  "kernelspec": {
   "display_name": "Python 3",
   "language": "python",
   "name": "python3"
  },
  "language_info": {
   "codemirror_mode": {
    "name": "ipython",
    "version": 3
   },
   "file_extension": ".py",
   "mimetype": "text/x-python",
   "name": "python",
   "nbconvert_exporter": "python",
   "pygments_lexer": "ipython3",
   "version": "3.6.5"
  },
  "toc": {
   "base_numbering": 1,
   "nav_menu": {},
   "number_sections": true,
   "sideBar": true,
   "skip_h1_title": false,
   "title_cell": "Table of Contents",
   "title_sidebar": "Contents",
   "toc_cell": false,
   "toc_position": {},
   "toc_section_display": true,
   "toc_window_display": false
  }
 },
 "nbformat": 4,
 "nbformat_minor": 2
}
